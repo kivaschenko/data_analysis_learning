{
  "cells": [
    {
      "cell_type": "markdown",
      "metadata": {
        "_cell_guid": "3189977b-caeb-49b0-a56a-822fdc723589",
        "_execution_state": "idle",
        "_uuid": "5152d0e5c915e584d47150680111385290c36225"
      },
      "source": [
        "Hello, friends! I'm trying to see here a simple linear model for predicting."
      ]
    },
    {
      "cell_type": "code",
      "execution_count": 1,
      "metadata": {
        "_cell_guid": "645a49a6-30ca-4367-9d16-a7376f36efd8",
        "_execution_state": "idle",
        "_uuid": "b5de489792ebc6122bd8d94d6e2f79905b6e45c9"
      },
      "outputs": [
        {
          "name": "stdout",
          "output_type": "stream",
          "text": [
            "sample_submission.csv\n",
            "test.csv\n",
            "train.csv\n",
            "\n"
          ]
        }
      ],
      "source": [
        "import numpy as np\n",
        "import pandas as pd\n",
        "import matplotlib.pyplot as plt\n",
        "import matplotlib\n",
        "#%matplotlib\n",
        "from sklearn.cluster import MiniBatchKMeans\n",
        "from sklearn.preprocessing import MinMaxScaler\n",
        "from sklearn.model_selection import train_test_split\n",
        "from sklearn.linear_model import LinearRegression\n",
        "from sklearn.linear_model import Ridge\n",
        "from sklearn.tree import DecisionTreeClassifier\n",
        "\n",
        "# Input data files are available in the \"../input/\" directory.\n",
        "# For example, running this (by clicking run or pressing Shift+Enter) will list \n",
        "# the files in the input directory\n",
        "\n",
        "from subprocess import check_output\n",
        "print(check_output([\"ls\", \"../input\"]).decode(\"utf8\"))\n",
        "# Any results you write to the current directory are saved as output."
      ]
    },
    {
      "cell_type": "markdown",
      "metadata": {
        "_cell_guid": "ccb3104d-1f4a-4dae-9539-e64c8e4cb50e",
        "_execution_state": "idle",
        "_uuid": "86fa3995c3d5939406047c40c84bb9ff808b8291"
      },
      "source": [
        "Let's see what we have..."
      ]
    },
    {
      "cell_type": "code",
      "execution_count": 2,
      "metadata": {
        "_cell_guid": "5abeded5-ccf8-4763-a0b2-b824686307ab",
        "_execution_state": "idle",
        "_uuid": "f8faee471ba370c59cc6cf590b5f78453a1fe919"
      },
      "outputs": [
        {
          "name": "stdout",
          "output_type": "stream",
          "text": [
            "<class 'pandas.core.frame.DataFrame'>\n",
            "RangeIndex: 1458644 entries, 0 to 1458643\n",
            "Data columns (total 11 columns):\n",
            "id                    1458644 non-null object\n",
            "vendor_id             1458644 non-null int64\n",
            "pickup_datetime       1458644 non-null object\n",
            "dropoff_datetime      1458644 non-null object\n",
            "passenger_count       1458644 non-null int64\n",
            "pickup_longitude      1458644 non-null float64\n",
            "pickup_latitude       1458644 non-null float64\n",
            "dropoff_longitude     1458644 non-null float64\n",
            "dropoff_latitude      1458644 non-null float64\n",
            "store_and_fwd_flag    1458644 non-null object\n",
            "trip_duration         1458644 non-null int64\n",
            "dtypes: float64(4), int64(3), object(4)\n",
            "memory usage: 122.4+ MB\n"
          ]
        },
        {
          "data": {
            "text/html": [
              "<div>\n",
              "<style>\n",
              "    .dataframe thead tr:only-child th {\n",
              "        text-align: right;\n",
              "    }\n",
              "\n",
              "    .dataframe thead th {\n",
              "        text-align: left;\n",
              "    }\n",
              "\n",
              "    .dataframe tbody tr th {\n",
              "        vertical-align: top;\n",
              "    }\n",
              "</style>\n",
              "<table border=\"1\" class=\"dataframe\">\n",
              "  <thead>\n",
              "    <tr style=\"text-align: right;\">\n",
              "      <th></th>\n",
              "      <th>vendor_id</th>\n",
              "      <th>passenger_count</th>\n",
              "      <th>pickup_longitude</th>\n",
              "      <th>pickup_latitude</th>\n",
              "      <th>dropoff_longitude</th>\n",
              "      <th>dropoff_latitude</th>\n",
              "      <th>trip_duration</th>\n",
              "    </tr>\n",
              "  </thead>\n",
              "  <tbody>\n",
              "    <tr>\n",
              "      <th>count</th>\n",
              "      <td>1.458644e+06</td>\n",
              "      <td>1.458644e+06</td>\n",
              "      <td>1.458644e+06</td>\n",
              "      <td>1.458644e+06</td>\n",
              "      <td>1.458644e+06</td>\n",
              "      <td>1.458644e+06</td>\n",
              "      <td>1.458644e+06</td>\n",
              "    </tr>\n",
              "    <tr>\n",
              "      <th>mean</th>\n",
              "      <td>1.534950e+00</td>\n",
              "      <td>1.664530e+00</td>\n",
              "      <td>-7.397349e+01</td>\n",
              "      <td>4.075092e+01</td>\n",
              "      <td>-7.397342e+01</td>\n",
              "      <td>4.075180e+01</td>\n",
              "      <td>9.594923e+02</td>\n",
              "    </tr>\n",
              "    <tr>\n",
              "      <th>std</th>\n",
              "      <td>4.987772e-01</td>\n",
              "      <td>1.314242e+00</td>\n",
              "      <td>7.090186e-02</td>\n",
              "      <td>3.288119e-02</td>\n",
              "      <td>7.064327e-02</td>\n",
              "      <td>3.589056e-02</td>\n",
              "      <td>5.237432e+03</td>\n",
              "    </tr>\n",
              "    <tr>\n",
              "      <th>min</th>\n",
              "      <td>1.000000e+00</td>\n",
              "      <td>0.000000e+00</td>\n",
              "      <td>-1.219333e+02</td>\n",
              "      <td>3.435970e+01</td>\n",
              "      <td>-1.219333e+02</td>\n",
              "      <td>3.218114e+01</td>\n",
              "      <td>1.000000e+00</td>\n",
              "    </tr>\n",
              "    <tr>\n",
              "      <th>25%</th>\n",
              "      <td>1.000000e+00</td>\n",
              "      <td>1.000000e+00</td>\n",
              "      <td>-7.399187e+01</td>\n",
              "      <td>4.073735e+01</td>\n",
              "      <td>-7.399133e+01</td>\n",
              "      <td>4.073588e+01</td>\n",
              "      <td>3.970000e+02</td>\n",
              "    </tr>\n",
              "    <tr>\n",
              "      <th>50%</th>\n",
              "      <td>2.000000e+00</td>\n",
              "      <td>1.000000e+00</td>\n",
              "      <td>-7.398174e+01</td>\n",
              "      <td>4.075410e+01</td>\n",
              "      <td>-7.397975e+01</td>\n",
              "      <td>4.075452e+01</td>\n",
              "      <td>6.620000e+02</td>\n",
              "    </tr>\n",
              "    <tr>\n",
              "      <th>75%</th>\n",
              "      <td>2.000000e+00</td>\n",
              "      <td>2.000000e+00</td>\n",
              "      <td>-7.396733e+01</td>\n",
              "      <td>4.076836e+01</td>\n",
              "      <td>-7.396301e+01</td>\n",
              "      <td>4.076981e+01</td>\n",
              "      <td>1.075000e+03</td>\n",
              "    </tr>\n",
              "    <tr>\n",
              "      <th>max</th>\n",
              "      <td>2.000000e+00</td>\n",
              "      <td>9.000000e+00</td>\n",
              "      <td>-6.133553e+01</td>\n",
              "      <td>5.188108e+01</td>\n",
              "      <td>-6.133553e+01</td>\n",
              "      <td>4.392103e+01</td>\n",
              "      <td>3.526282e+06</td>\n",
              "    </tr>\n",
              "  </tbody>\n",
              "</table>\n",
              "</div>"
            ],
            "text/plain": [
              "          vendor_id  passenger_count  pickup_longitude  pickup_latitude  \\\n",
              "count  1.458644e+06     1.458644e+06      1.458644e+06     1.458644e+06   \n",
              "mean   1.534950e+00     1.664530e+00     -7.397349e+01     4.075092e+01   \n",
              "std    4.987772e-01     1.314242e+00      7.090186e-02     3.288119e-02   \n",
              "min    1.000000e+00     0.000000e+00     -1.219333e+02     3.435970e+01   \n",
              "25%    1.000000e+00     1.000000e+00     -7.399187e+01     4.073735e+01   \n",
              "50%    2.000000e+00     1.000000e+00     -7.398174e+01     4.075410e+01   \n",
              "75%    2.000000e+00     2.000000e+00     -7.396733e+01     4.076836e+01   \n",
              "max    2.000000e+00     9.000000e+00     -6.133553e+01     5.188108e+01   \n",
              "\n",
              "       dropoff_longitude  dropoff_latitude  trip_duration  \n",
              "count       1.458644e+06      1.458644e+06   1.458644e+06  \n",
              "mean       -7.397342e+01      4.075180e+01   9.594923e+02  \n",
              "std         7.064327e-02      3.589056e-02   5.237432e+03  \n",
              "min        -1.219333e+02      3.218114e+01   1.000000e+00  \n",
              "25%        -7.399133e+01      4.073588e+01   3.970000e+02  \n",
              "50%        -7.397975e+01      4.075452e+01   6.620000e+02  \n",
              "75%        -7.396301e+01      4.076981e+01   1.075000e+03  \n",
              "max        -6.133553e+01      4.392103e+01   3.526282e+06  "
            ]
          },
          "execution_count": 2,
          "metadata": {},
          "output_type": "execute_result"
        }
      ],
      "source": [
        "#    Get the train data set: train_df\n",
        "train = pd.read_csv(\"../input/train.csv\")\n",
        "train.info()\n",
        "train.describe()"
      ]
    },
    {
      "cell_type": "code",
      "execution_count": 3,
      "metadata": {
        "_cell_guid": "2acdc639-7651-4170-bfd5-25babec04fb6",
        "_uuid": "b160bb70db37920cb05a208aeee89ad6e336e4ca",
        "collapsed": true
      },
      "outputs": [],
      "source": [
        "def conf_int_duration(df):\n",
        "    \"\"\" Drop off the outliers of trip_duration\"\"\"\n",
        "    \n",
        "    conf_int_duration = np.percentile(df.trip_duration, [5.0,95.0])\n",
        "    print('\\nConfidental interval trip_duration: {}'.format(conf_int_duration))\n",
        "    \n",
        "    df.loc[df.trip_duration <= conf_int_duration[0],'trip_duration'] = np.nan\n",
        "    value=df.trip_duration.min()\n",
        "    df.trip_duration.fillna(value=value, inplace=True) \n",
        "    \n",
        "    df.loc[df.trip_duration >= conf_int_duration[1],'trip_duration'] = np.nan\n",
        "    value=df.trip_duration.max()\n",
        "    df.trip_duration.fillna(value=value, inplace=True)\n",
        "    \n",
        "    print(\"Trip_duration describe past drop:\\n\",df.trip_duration.describe())\n",
        "    \n",
        "    return"
      ]
    },
    {
      "cell_type": "code",
      "execution_count": 4,
      "metadata": {
        "_cell_guid": "4c0e4395-d0ba-4904-8464-b887ccae98fb",
        "_uuid": "0c478e40f1c23a252dedc2eee01a8e37bab7a984"
      },
      "outputs": [
        {
          "name": "stdout",
          "output_type": "stream",
          "text": [
            "\n",
            "Confidental interval trip_duration: [  180.  2104.]\n",
            "Trip_duration describe past drop:\n",
            " count    1.458644e+06\n",
            "mean     8.043713e+02\n",
            "std      5.267916e+02\n",
            "min      1.810000e+02\n",
            "25%      3.970000e+02\n",
            "50%      6.620000e+02\n",
            "75%      1.075000e+03\n",
            "max      2.103000e+03\n",
            "Name: trip_duration, dtype: float64\n"
          ]
        }
      ],
      "source": [
        "### Change the data of trip_duration by fuction conf_int_duration(df):\n",
        "conf_int_duration(train) "
      ]
    },
    {
      "cell_type": "code",
      "execution_count": 5,
      "metadata": {
        "_cell_guid": "457c211d-241e-4c08-b896-36af7b24eeb5",
        "_uuid": "364eb7bc02839c6a3e82b055aa20ccc6db40b4cd"
      },
      "outputs": [
        {
          "name": "stdout",
          "output_type": "stream",
          "text": [
            "<class 'pandas.core.frame.DataFrame'>\n",
            "RangeIndex: 1458644 entries, 0 to 1458643\n",
            "Data columns (total 11 columns):\n",
            "id                    1458644 non-null object\n",
            "vendor_id             1458644 non-null int64\n",
            "pickup_datetime       1458644 non-null object\n",
            "dropoff_datetime      1458644 non-null object\n",
            "passenger_count       1458644 non-null int64\n",
            "pickup_longitude      1458644 non-null float64\n",
            "pickup_latitude       1458644 non-null float64\n",
            "dropoff_longitude     1458644 non-null float64\n",
            "dropoff_latitude      1458644 non-null float64\n",
            "store_and_fwd_flag    1458644 non-null object\n",
            "trip_duration         1458644 non-null float64\n",
            "dtypes: float64(5), int64(2), object(4)\n",
            "memory usage: 122.4+ MB\n",
            "\n",
            " train.info():\n",
            "None\n"
          ]
        }
      ],
      "source": [
        "print(\"\\n train.info():\\n{}\".format(train.info()))"
      ]
    },
    {
      "cell_type": "code",
      "execution_count": 6,
      "metadata": {
        "_cell_guid": "4e9e033c-c89f-4ecd-879e-8e5c97c34076",
        "_execution_state": "idle",
        "_uuid": "9179e48c3db5116e69617e6701bc70aa32a52f2d"
      },
      "outputs": [
        {
          "name": "stdout",
          "output_type": "stream",
          "text": [
            "<class 'pandas.core.frame.DataFrame'>\n",
            "Index: 625134 entries, id3004672 to id0621643\n",
            "Data columns (total 8 columns):\n",
            "vendor_id             625134 non-null int64\n",
            "pickup_datetime       625134 non-null object\n",
            "passenger_count       625134 non-null int64\n",
            "pickup_longitude      625134 non-null float64\n",
            "pickup_latitude       625134 non-null float64\n",
            "dropoff_longitude     625134 non-null float64\n",
            "dropoff_latitude      625134 non-null float64\n",
            "store_and_fwd_flag    625134 non-null object\n",
            "dtypes: float64(4), int64(2), object(2)\n",
            "memory usage: 42.9+ MB\n"
          ]
        }
      ],
      "source": [
        "#    Get the test data set: test_df\n",
        "test = pd.read_csv(\"../input/test.csv\", index_col='id')\n",
        "test.info()"
      ]
    },
    {
      "cell_type": "markdown",
      "metadata": {
        "_cell_guid": "0a651189-261c-4e4e-9125-16d41981dd61",
        "_uuid": "4e8e1c1175c044926b2fec30c9a3511de3743884"
      },
      "source": [
        "To process the same fields, combine two tables"
      ]
    },
    {
      "cell_type": "code",
      "execution_count": 7,
      "metadata": {
        "_cell_guid": "7f681de7-4b3a-438c-b25e-5f779e8eea1f",
        "_uuid": "6de8e9c5bec81c55b90db362d0c4e9d1b12cf9d1"
      },
      "outputs": [
        {
          "name": "stdout",
          "output_type": "stream",
          "text": [
            "<class 'pandas.core.frame.DataFrame'>\n",
            "Index: 2083778 entries, 0 to id0621643\n",
            "Data columns (total 11 columns):\n",
            "dropoff_datetime      object\n",
            "dropoff_latitude      float64\n",
            "dropoff_longitude     float64\n",
            "id                    object\n",
            "passenger_count       int64\n",
            "pickup_datetime       object\n",
            "pickup_latitude       float64\n",
            "pickup_longitude      float64\n",
            "store_and_fwd_flag    object\n",
            "trip_duration         float64\n",
            "vendor_id             int64\n",
            "dtypes: float64(5), int64(2), object(4)\n",
            "memory usage: 190.8+ MB\n"
          ]
        }
      ],
      "source": [
        "result = pd.concat([train, test])\n",
        "result.info()"
      ]
    },
    {
      "cell_type": "code",
      "execution_count": 8,
      "metadata": {
        "_cell_guid": "4629c27a-767b-40e9-ae8e-90494e6b7748",
        "_uuid": "4d976c2f1e22f31e647af541c62838553f46e9fd"
      },
      "outputs": [
        {
          "data": {
            "text/plain": [
              "<matplotlib.axes._subplots.AxesSubplot at 0x7f73ee4e89b0>"
            ]
          },
          "execution_count": 8,
          "metadata": {},
          "output_type": "execute_result"
        },
        {
          "data": {
            "image/png": "[encoded data removed]",
            "text/plain": [
              "<matplotlib.figure.Figure at 0x7f73ee4d6dd8>"
            ]
          },
          "metadata": {},
          "output_type": "display_data"
        }
      ],
      "source": [
        "result.plot(x='dropoff_latitude', y='dropoff_longitude', \n",
        "            kind='scatter', marker='.', alpha=0.5, c='r')"
      ]
    },
    {
      "cell_type": "code",
      "execution_count": 9,
      "metadata": {
        "_cell_guid": "bc10f3b0-f9e3-4779-b3f5-8d7f1be1afb5",
        "_execution_state": "idle",
        "_uuid": "406a40f299299d139404ae24ae54a1cb33af393f"
      },
      "outputs": [
        {
          "data": {
            "text/plain": [
              "<matplotlib.axes._subplots.AxesSubplot at 0x7f73af8e4630>"
            ]
          },
          "execution_count": 9,
          "metadata": {},
          "output_type": "execute_result"
        },
        {
          "data": {
            "image/png": "[encoded data removed]",
            "text/plain": [
              "<matplotlib.figure.Figure at 0x7f73acdebba8>"
            ]
          },
          "metadata": {},
          "output_type": "display_data"
        }
      ],
      "source": [
        "result.plot(x='dropoff_latitude', y='dropoff_longitude', \n",
        "            xlim=(40.0, 42.0), ylim=(-78.0, -70.0), \n",
        "            kind='scatter', marker='.', alpha=0.5, c='b')"
      ]
    },
    {
      "cell_type": "code",
      "execution_count": 10,
      "metadata": {
        "_cell_guid": "0ee79984-1ebc-4bde-93ce-2b444c169648",
        "_execution_state": "idle",
        "_uuid": "3ab6e073ce0f965fcc7bf10b2fcc5fe3e1a4f31f"
      },
      "outputs": [
        {
          "data": {
            "text/plain": [
              "<matplotlib.axes._subplots.AxesSubplot at 0x7f73ab892be0>"
            ]
          },
          "execution_count": 10,
          "metadata": {},
          "output_type": "execute_result"
        },
        {
          "data": {
            "image/png": "[encoded data removed]",
            "text/plain": [
              "<matplotlib.figure.Figure at 0x7f73ab8cd048>"
            ]
          },
          "metadata": {},
          "output_type": "display_data"
        }
      ],
      "source": [
        "result.plot(x='dropoff_latitude', y='dropoff_longitude',\n",
        "            xlim=(40.5, 41.0), ylim=(-74.4, -73.3), \n",
        "            kind='scatter', marker='.', alpha=0.3, c='g')"
      ]
    },
    {
      "cell_type": "code",
      "execution_count": 11,
      "metadata": {
        "_cell_guid": "fcb21018-b018-4ed2-9592-4867b8c08260",
        "_uuid": "f357ee9ff6e78494552dcbf3250260177404d34e"
      },
      "outputs": [
        {
          "data": {
            "text/plain": [
              "<matplotlib.axes._subplots.AxesSubplot at 0x7f73ace3f0b8>"
            ]
          },
          "execution_count": 11,
          "metadata": {},
          "output_type": "execute_result"
        },
        {
          "data": {
            "image/png": "[encoded data removed]",
            "text/plain": [
              "<matplotlib.figure.Figure at 0x7f73acdebac8>"
            ]
          },
          "metadata": {},
          "output_type": "display_data"
        }
      ],
      "source": [
        "result.plot(x='dropoff_latitude', y='dropoff_longitude',\n",
        "            xlim=(40.55, 40.95), ylim=(-74.2, -73.6), \n",
        "            kind='scatter', marker='.', alpha=0.2, c='y')"
      ]
    },
    {
      "cell_type": "code",
      "execution_count": 12,
      "metadata": {
        "_cell_guid": "a19cd6a4-ce2d-4433-9f58-432eb7801171",
        "_execution_state": "idle",
        "_uuid": "71e8f4a278efd2447b5ef40e19ee039dd7ae2681",
        "collapsed": true
      },
      "outputs": [],
      "source": [
        "def conf_int_coordinates(df):\n",
        "    df['pickup_longitude'] = df.pickup_longitude.round(4)\n",
        "    df['pickup_latitude'] = df.pickup_latitude.round(4)\n",
        "    df.loc[:,['pickup_longitude', 'pickup_latitude']].describe()\n",
        "    \n",
        "    ###  Get data coordinates only in confidence interval pickup_Latitude:\n",
        "    conf_int_latit = np.percentile(df.pickup_latitude, [2.5, 97.5])\n",
        "    print(conf_int_latit)\n",
        "    \n",
        "    df.loc[df.pickup_latitude <= conf_int_latit[0], 'pickup_latitude'] = np.nan\n",
        "    value=df.pickup_latitude.min()\n",
        "    df.pickup_latitude.fillna(value=value, inplace=True)\n",
        "    \n",
        "    df.loc[df.pickup_latitude >= conf_int_latit[1], 'pickup_latitude'] = np.nan\n",
        "    value=df.pickup_latitude.max()\n",
        "    df.pickup_latitude.fillna(value=value, inplace=True)\n",
        "    \n",
        "    ###  Get data coordinates only in confidence interval pickup_longitude:\n",
        "    conf_int_longit = np.percentile(df.pickup_longitude,  [2.5, 97.5])\n",
        "    print(conf_int_longit)\n",
        "    \n",
        "    df.loc[df.pickup_longitude <= conf_int_longit[0], 'pickup_longitude'] = np.nan\n",
        "    value=df.pickup_longitude.min()\n",
        "    df.pickup_longitude.fillna(value=value, inplace=True)\n",
        "    \n",
        "    df.loc[df.pickup_longitude >= conf_int_longit[1], 'pickup_longitude'] = np.nan\n",
        "    value=df.pickup_longitude.max()\n",
        "    df.pickup_longitude.fillna(value=value, inplace=True)\n",
        "    \n",
        "    df['dropoff_longitude'] = df.dropoff_longitude.round(4)\n",
        "    df['dropoff_latitude'] = df.dropoff_latitude.round(4)\n",
        "    df.loc[:,['pickup_longitude', 'pickup_latitude']].describe()\n",
        "    \n",
        "    ###  Get data coordinates only in confidence interval dropoff_latitude:\n",
        "    conf_int_latit = np.percentile(df.dropoff_latitude,  [2.5,97.5])\n",
        "    print(conf_int_latit)\n",
        "    \n",
        "    df.loc[df.dropoff_latitude <= conf_int_latit[0], 'dropoff_latitude'] = np.nan\n",
        "    value=df.dropoff_latitude.min()\n",
        "    df.dropoff_latitude.fillna(value=value, inplace=True)\n",
        "    \n",
        "    df.loc[df.dropoff_latitude >= conf_int_latit[1], 'dropoff_latitude'] = np.nan\n",
        "    value=df.dropoff_latitude.max()\n",
        "    df.dropoff_latitude.fillna(value=value, inplace=True)\n",
        "    \n",
        "    ###  Get data coordinates only in confidence interval dropoff_longitude\n",
        "    conf_int_longit = np.percentile(df.dropoff_longitude,  [2.5,97.5])\n",
        "    print(conf_int_longit)\n",
        "    \n",
        "    df.loc[df.dropoff_longitude <= conf_int_longit[0], 'dropoff_longitude'] = np.nan\n",
        "    value=df.dropoff_longitude.min()\n",
        "    df.dropoff_longitude.fillna(value=value, inplace=True)\n",
        "    \n",
        "    df.loc[df.dropoff_longitude >= conf_int_longit[1], 'dropoff_longitude'] = np.nan\n",
        "    value=df.dropoff_longitude.max()\n",
        "    df.dropoff_longitude.fillna(value=value, inplace=True)\n",
        "    \n",
        "    print(df.describe())\n",
        "    return"
      ]
    },
    {
      "cell_type": "code",
      "execution_count": 13,
      "metadata": {
        "_cell_guid": "e6e8b695-0ded-423c-b805-b6e6c2a34069",
        "_execution_state": "idle",
        "_uuid": "b47004ccde6747b2495143fd856e13143acf613a"
      },
      "outputs": [
        {
          "name": "stdout",
          "output_type": "stream",
          "text": [
            "[ 40.6774  40.7968]\n",
            "[-74.0098 -73.8628]\n",
            "[ 40.6763  40.8095]\n",
            "[-74.0111 -73.8705]\n",
            "       dropoff_latitude  dropoff_longitude  passenger_count  pickup_latitude  \\\n",
            "count      2.083778e+06       2.083778e+06     2.083778e+06     2.083778e+06   \n",
            "mean       4.075180e+01      -7.397422e+01     1.663700e+00     4.075137e+01   \n",
            "std        2.820045e-02       2.789893e-02     1.313358e+00     2.477628e-02   \n",
            "min        4.067640e+01      -7.401100e+01     0.000000e+00     4.067750e+01   \n",
            "25%        4.073590e+01      -7.399130e+01     1.000000e+00     4.073740e+01   \n",
            "50%        4.075450e+01      -7.397980e+01     1.000000e+00     4.075410e+01   \n",
            "75%        4.076980e+01      -7.396300e+01     2.000000e+00     4.076840e+01   \n",
            "max        4.080940e+01      -7.387060e+01     9.000000e+00     4.079670e+01   \n",
            "\n",
            "       pickup_longitude  trip_duration     vendor_id  \n",
            "count      2.083778e+06   1.458644e+06  2.083778e+06  \n",
            "mean      -7.397513e+01   8.043713e+02  1.534930e+00  \n",
            "std        3.004794e-02   5.267916e+02  4.987785e-01  \n",
            "min       -7.400970e+01   1.810000e+02  1.000000e+00  \n",
            "25%       -7.399190e+01   3.970000e+02  1.000000e+00  \n",
            "50%       -7.398170e+01   6.620000e+02  2.000000e+00  \n",
            "75%       -7.396730e+01   1.075000e+03  2.000000e+00  \n",
            "max       -7.386290e+01   2.103000e+03  2.000000e+00  \n"
          ]
        }
      ],
      "source": [
        "conf_int_coordinates(result)"
      ]
    },
    {
      "cell_type": "code",
      "execution_count": 14,
      "metadata": {
        "_cell_guid": "5d9d670d-8008-4773-9a7f-a8a62c728105",
        "_execution_state": "idle",
        "_uuid": "9b9d908fe81428281cf9c0abe23137386fb68921",
        "scrolled": true
      },
      "outputs": [
        {
          "name": "stdout",
          "output_type": "stream",
          "text": [
            "<class 'pandas.core.frame.DataFrame'>\n",
            "Index: 2083778 entries, 0 to id0621643\n",
            "Data columns (total 11 columns):\n",
            "dropoff_datetime      object\n",
            "dropoff_latitude      float64\n",
            "dropoff_longitude     float64\n",
            "id                    object\n",
            "passenger_count       int64\n",
            "pickup_datetime       object\n",
            "pickup_latitude       float64\n",
            "pickup_longitude      float64\n",
            "store_and_fwd_flag    object\n",
            "trip_duration         float64\n",
            "vendor_id             int64\n",
            "dtypes: float64(5), int64(2), object(4)\n",
            "memory usage: 190.8+ MB\n",
            "\n",
            "result.info():\n",
            "None\n"
          ]
        }
      ],
      "source": [
        "print(\"\\nresult.info():\\n{}\".format(result.info()))"
      ]
    },
    {
      "cell_type": "code",
      "execution_count": 15,
      "metadata": {
        "_cell_guid": "9d0288f7-fc44-4b02-9e17-253b0e2a159a",
        "_execution_state": "idle",
        "_uuid": "02c2baad5a0dde21a29b08edfe269e18db745fce",
        "collapsed": true
      },
      "outputs": [],
      "source": [
        "#\tDistance of route\n",
        "AVG_EARTH_RADIUS = 6371  # in km\n",
        "def haversine(df, miles=True):\n",
        "    \"\"\" Get the distance of routes by  the haversinus formula\"\"\"\n",
        "    lat1, lng1, lat2, lng2 = (df.pickup_latitude[:], \n",
        "                              df.pickup_longitude[:], \n",
        "                              df.dropoff_latitude[:], \n",
        "                              df.dropoff_longitude[:])\n",
        "    # convert all latitudes/longitudes from decimal degrees to radians\n",
        "    lat1, lng1, lat2, lng2 = map(np.radians, (lat1, lng1, lat2, lng2))\n",
        "    # calculate haversine\n",
        "    lat = lat2 - lat1\n",
        "    lng = lng2 - lng1\n",
        "    d = np.sin(lat*0.5)**2 + np.cos(lat1) * np.cos(lat2) * np.sin(lng*0.5)**2\n",
        "    h = 2 * AVG_EARTH_RADIUS * np.arcsin(np.sqrt(d))\n",
        "    if miles:\n",
        "        df['trip_distance'] = h * 0.621371  # in miles\n",
        "        df['trip_distance'] = df.trip_distance.round(2)\n",
        "        print(df.trip_distance.describe())\n",
        "        return \n",
        "    else:\n",
        "        df['trip_distance'] = h  # in kilometers\n",
        "        df['trip_distance'] = df.trip_distance.round(2)\n",
        "        print(df.trip_distance.describe())\n",
        "        return"
      ]
    },
    {
      "cell_type": "code",
      "execution_count": 16,
      "metadata": {
        "_cell_guid": "4a8c2795-d9ca-4d87-8c0d-033d3f649500",
        "_execution_state": "idle",
        "_uuid": "af313f3672ce6753547bb062535fad4e6fa04810"
      },
      "outputs": [
        {
          "name": "stdout",
          "output_type": "stream",
          "text": [
            "count    2.083778e+06\n",
            "mean     1.913214e+00\n",
            "std      1.776777e+00\n",
            "min      0.000000e+00\n",
            "25%      7.600000e-01\n",
            "50%      1.280000e+00\n",
            "75%      2.350000e+00\n",
            "max      1.196000e+01\n",
            "Name: trip_distance, dtype: float64\n"
          ]
        }
      ],
      "source": [
        "haversine(result, miles=True) "
      ]
    },
    {
      "cell_type": "code",
      "execution_count": 17,
      "metadata": {
        "_cell_guid": "bffb82c5-be11-4877-acc9-77e46cbcc109",
        "_execution_state": "idle",
        "_uuid": "ab070fee45ae31c0c6c9a98979f972d47a728512",
        "collapsed": true
      },
      "outputs": [],
      "source": [
        "def conf_int_distance(df):\n",
        "    \"\"\" Drop off values of distance by confidantal interval\"\"\"\n",
        "    conf_int_distance = np.percentile(df.trip_distance, [5.0,100.0])\n",
        "    print('\\nConfidental interval trip_duration: {}'.format(conf_int_distance))\n",
        "    df.loc[df.trip_distance <= conf_int_distance[0],'trip_distance'] = np.nan\n",
        "    value=df.trip_distance.min() \n",
        "    df.trip_distance.fillna(value=value, inplace=True)     \n",
        "    df.loc[df.trip_distance >= conf_int_distance[1],'trip_distance'] = np.nan\n",
        "    value=df.trip_distance.max()\n",
        "    df.trip_distance.fillna(value=value, inplace=True)\n",
        "    print(\"\\nTrip_distance describe:\\n\",df.trip_distance.describe())\n",
        "    return"
      ]
    },
    {
      "cell_type": "code",
      "execution_count": 18,
      "metadata": {
        "_cell_guid": "e9ae8452-53ec-4807-9ab4-2997878ef2c8",
        "_execution_state": "idle",
        "_uuid": "7888ce75695f6e4369e658d28ebe0fdecd0750da"
      },
      "outputs": [
        {
          "name": "stdout",
          "output_type": "stream",
          "text": [
            "\n",
            "Confidental interval trip_duration: [  0.37  11.96]\n",
            "\n",
            "Trip_distance describe:\n",
            " count    2.083778e+06\n",
            "mean     1.920555e+00\n",
            "std      1.769919e+00\n",
            "min      3.800000e-01\n",
            "25%      7.600000e-01\n",
            "50%      1.280000e+00\n",
            "75%      2.350000e+00\n",
            "max      1.193000e+01\n",
            "Name: trip_distance, dtype: float64\n"
          ]
        }
      ],
      "source": [
        "conf_int_distance(result)"
      ]
    },
    {
      "cell_type": "code",
      "execution_count": 19,
      "metadata": {
        "_cell_guid": "2389a239-926c-45c0-9f04-70cdcda25af8",
        "_execution_state": "idle",
        "_uuid": "e5f7846b751268018fe6dbafe450e45e2df11cf3",
        "collapsed": true
      },
      "outputs": [],
      "source": [
        "def arrays_bearing(df):\n",
        "    \"\"\" Get azimuth between points pickup and dropoff\"\"\"\n",
        "    lats1, lngs1, lats2, lngs2 = (df['pickup_latitude'][:], \n",
        "                                  df['pickup_longitude'][:], \n",
        "                                  df['dropoff_latitude'][:], \n",
        "                                  df['dropoff_longitude'][:])\n",
        "    lats1_rads = np.radians(lats1)\n",
        "    lats2_rads = np.radians(lats2)\n",
        "    lngs_delta_rads = np.radians(lngs2 - lngs1)\n",
        "    \n",
        "    y = np.sin(lngs_delta_rads) * np.cos(lats2_rads)\n",
        "    x = np.cos(lats1_rads) * np.sin(lats2_rads) -                      \\\n",
        "    np.sin(lats1_rads) * np.cos(lats2_rads) * np.cos(lngs_delta_rads)\n",
        "    df['bearing'] = np.degrees(np.arctan2(y, x))\n",
        "    df['bearing'] = df.bearing.round(0)\n",
        "    print(df.bearing.describe())\n",
        "    return"
      ]
    },
    {
      "cell_type": "code",
      "execution_count": 20,
      "metadata": {
        "_cell_guid": "b7041d03-21ad-42db-acb8-64ee2ce63e68",
        "_execution_state": "idle",
        "_uuid": "993fc3588fec72f5339db3f2465a7618a5f3a31f"
      },
      "outputs": [
        {
          "name": "stdout",
          "output_type": "stream",
          "text": [
            "count    2.083778e+06\n",
            "mean    -1.589140e+01\n",
            "std      1.041996e+02\n",
            "min     -1.800000e+02\n",
            "25%     -1.250000e+02\n",
            "50%      7.000000e+00\n",
            "75%      5.300000e+01\n",
            "max      1.800000e+02\n",
            "Name: bearing, dtype: float64\n"
          ]
        }
      ],
      "source": [
        "arrays_bearing(result)"
      ]
    },
    {
      "cell_type": "code",
      "execution_count": 21,
      "metadata": {
        "_cell_guid": "7b195c83-cdd4-4a26-85ce-06c99113da42",
        "_uuid": "4547230e13952fc6ccc54bbf89193db636b07a9a",
        "collapsed": true
      },
      "outputs": [],
      "source": [
        "### Drop no useful columns\n",
        "drop_columns = ['dropoff_datetime', \n",
        "                    'dropoff_longitude',\n",
        "                    'dropoff_latitude']\n",
        "result.drop(drop_columns, axis=1, inplace=True)"
      ]
    },
    {
      "cell_type": "code",
      "execution_count": 22,
      "metadata": {
        "_cell_guid": "23896ab8-cb6a-4fb2-b752-ef7f3a391eb6",
        "_uuid": "3bcd404bc8f93a55cf5ee07d002aef369a14b0c0",
        "collapsed": true
      },
      "outputs": [],
      "source": [
        "def to_dummie_passengers(df):\n",
        "    \"\"\"To fix vendor_id, store_and_fwd_flag and passanger_count values\"\"\"\n",
        "    df.loc[df.passenger_count == 0, 'passenger_count'] = np.nan\n",
        "    value = df.passenger_count.min()\n",
        "    df.passenger_count.fillna(value=value, inplace=True)\n",
        "    \n",
        "    df.loc[df.passenger_count > 6, 'passenger_count'] = np.nan\n",
        "    value = df.passenger_count.max()\n",
        "    df.passenger_count.fillna(value=value, inplace=True)\n",
        "           \n",
        "    ### Convert to binar number of passengers       \n",
        "    df['passenger_count'] = df.passenger_count.astype(str)\n",
        "    df_dummie = pd.get_dummies(df['passenger_count'][:], prefix=\"pass\")\n",
        "    df_dummie = pd.merge(df[:],df_dummie[:], how='inner', \n",
        "                         left_index=True, right_index=True)\n",
        "    \n",
        "    return (df_dummie)"
      ]
    },
    {
      "cell_type": "code",
      "execution_count": 23,
      "metadata": {
        "_cell_guid": "a0b34654-19b1-4453-95e8-349b3f273c0a",
        "_uuid": "9c151c010434c17cfb383e8edfef48ac1bcae32e",
        "collapsed": true
      },
      "outputs": [],
      "source": [
        "x = result.loc[:,:]\n",
        "result = to_dummie_passengers(x)"
      ]
    },
    {
      "cell_type": "code",
      "execution_count": 24,
      "metadata": {
        "_cell_guid": "f1852451-491a-4bdb-90f4-48729aa2e809",
        "_uuid": "75172f4f5106447f136e44c9b196278518c1ba10"
      },
      "outputs": [
        {
          "name": "stdout",
          "output_type": "stream",
          "text": [
            "<class 'pandas.core.frame.DataFrame'>\n",
            "Index: 2083778 entries, 0 to id0621643\n",
            "Data columns (total 16 columns):\n",
            "id                    object\n",
            "passenger_count       object\n",
            "pickup_datetime       object\n",
            "pickup_latitude       float64\n",
            "pickup_longitude      float64\n",
            "store_and_fwd_flag    object\n",
            "trip_duration         float64\n",
            "vendor_id             int64\n",
            "trip_distance         float64\n",
            "bearing               float64\n",
            "pass_1.0              uint8\n",
            "pass_2.0              uint8\n",
            "pass_3.0              uint8\n",
            "pass_4.0              uint8\n",
            "pass_5.0              uint8\n",
            "pass_6.0              uint8\n",
            "dtypes: float64(5), int64(1), object(4), uint8(6)\n",
            "memory usage: 266.8+ MB\n",
            "None\n"
          ]
        }
      ],
      "source": [
        "print(result.info())"
      ]
    },
    {
      "cell_type": "code",
      "execution_count": 25,
      "metadata": {
        "_cell_guid": "3e14846e-6d3e-4119-b0d0-a7bdbf3322bd",
        "_uuid": "93c4fa40bca1ebabb8fee51a7a02a6b2f088ceeb",
        "collapsed": true
      },
      "outputs": [],
      "source": [
        "result.drop('passenger_count', axis=1, inplace=True)"
      ]
    },
    {
      "cell_type": "code",
      "execution_count": 26,
      "metadata": {
        "_cell_guid": "e4b3b31f-8c2c-4a46-ab30-da72ee6f26ba",
        "_uuid": "2e927845075ea79e27b533747cad4eeb15dbf23a",
        "collapsed": true
      },
      "outputs": [],
      "source": [
        "def to_dummie_vendor(df):    \n",
        "    ### Convert to binar vendor_id\n",
        "    df['vendor_id'] = df.vendor_id.astype(str)\n",
        "    df_dummie = pd.get_dummies(df['vendor_id'][:], prefix=\"vendor\")\n",
        "    df_dummie = pd.merge(df[:], df_dummie[:], how='inner', \n",
        "                         left_index=True, right_index=True)\n",
        "    \n",
        "    return(df_dummie)"
      ]
    },
    {
      "cell_type": "code",
      "execution_count": 27,
      "metadata": {
        "_cell_guid": "ea29418f-6f8b-4d59-a1dd-e15bf2d4a136",
        "_uuid": "a3e385fc93dcd3662c4e764ab401ff03e165f748",
        "collapsed": true
      },
      "outputs": [],
      "source": [
        "x = result.loc[:,:]\n",
        "result = to_dummie_vendor(x)"
      ]
    },
    {
      "cell_type": "code",
      "execution_count": 28,
      "metadata": {
        "_cell_guid": "88f4f95f-7e92-4d8b-b3be-8b048df36207",
        "_uuid": "f7f42883957b5644968e43800fab226ce9911276"
      },
      "outputs": [
        {
          "name": "stdout",
          "output_type": "stream",
          "text": [
            "<class 'pandas.core.frame.DataFrame'>\n",
            "Index: 2083778 entries, 0 to id0621643\n",
            "Data columns (total 17 columns):\n",
            "id                    object\n",
            "pickup_datetime       object\n",
            "pickup_latitude       float64\n",
            "pickup_longitude      float64\n",
            "store_and_fwd_flag    object\n",
            "trip_duration         float64\n",
            "vendor_id             object\n",
            "trip_distance         float64\n",
            "bearing               float64\n",
            "pass_1.0              uint8\n",
            "pass_2.0              uint8\n",
            "pass_3.0              uint8\n",
            "pass_4.0              uint8\n",
            "pass_5.0              uint8\n",
            "pass_6.0              uint8\n",
            "vendor_1              uint8\n",
            "vendor_2              uint8\n",
            "dtypes: float64(5), object(4), uint8(8)\n",
            "memory usage: 254.9+ MB\n",
            "None\n"
          ]
        }
      ],
      "source": [
        "print(result.info())"
      ]
    },
    {
      "cell_type": "code",
      "execution_count": 29,
      "metadata": {
        "_cell_guid": "bff1d7f3-cad0-40d7-9c80-6a2b57ab5f0e",
        "_uuid": "10db172c4afe6749f27853396d9bf4002c0311b3",
        "collapsed": true
      },
      "outputs": [],
      "source": [
        "result.drop('vendor_id', axis=1, inplace=True)"
      ]
    },
    {
      "cell_type": "code",
      "execution_count": 30,
      "metadata": {
        "_cell_guid": "7782c381-7ed0-4de6-8eb2-eb6fbcfd2b3f",
        "_uuid": "a9319755f861f030a6a32855935cb42fc0aa5f28",
        "collapsed": true
      },
      "outputs": [],
      "source": [
        "def to_dummie_flag(df):\n",
        "    ###  Convert to binar flag labels\n",
        "    df_dummie = pd.get_dummies(df['store_and_fwd_flag'][:], prefix=\"flag\")\n",
        "    df_dummie = pd.merge(df[:], df_dummie[:], how='inner', \n",
        "                         left_index=True, right_index=True)\n",
        "    \n",
        "    return (df_dummie)"
      ]
    },
    {
      "cell_type": "code",
      "execution_count": 31,
      "metadata": {
        "_cell_guid": "06544f10-8392-4529-a013-3dae4f2e5351",
        "_uuid": "522f6b1cd823786e9535129caf9d8532ea28337c",
        "collapsed": true
      },
      "outputs": [],
      "source": [
        "x = result.loc[:,:]\n",
        "result = to_dummie_flag(x)"
      ]
    },
    {
      "cell_type": "code",
      "execution_count": 32,
      "metadata": {
        "_cell_guid": "7c066d63-15ea-4f28-9fe6-c5c086b2cc3a",
        "_uuid": "46f68548b3c367623febac036d5917b4ded62086"
      },
      "outputs": [
        {
          "name": "stdout",
          "output_type": "stream",
          "text": [
            "<class 'pandas.core.frame.DataFrame'>\n",
            "Index: 2083778 entries, 0 to id0621643\n",
            "Data columns (total 18 columns):\n",
            "id                    object\n",
            "pickup_datetime       object\n",
            "pickup_latitude       float64\n",
            "pickup_longitude      float64\n",
            "store_and_fwd_flag    object\n",
            "trip_duration         float64\n",
            "trip_distance         float64\n",
            "bearing               float64\n",
            "pass_1.0              uint8\n",
            "pass_2.0              uint8\n",
            "pass_3.0              uint8\n",
            "pass_4.0              uint8\n",
            "pass_5.0              uint8\n",
            "pass_6.0              uint8\n",
            "vendor_1              uint8\n",
            "vendor_2              uint8\n",
            "flag_N                uint8\n",
            "flag_Y                uint8\n",
            "dtypes: float64(5), object(3), uint8(10)\n",
            "memory usage: 243.0+ MB\n",
            "None\n"
          ]
        }
      ],
      "source": [
        "print(result.info())"
      ]
    },
    {
      "cell_type": "code",
      "execution_count": 33,
      "metadata": {
        "_cell_guid": "363c8528-f6d2-4798-a19e-50a605316936",
        "_uuid": "db16a444b2d852eac558bdd8e0b47e1883d810b0",
        "collapsed": true
      },
      "outputs": [],
      "source": [
        "result.drop('store_and_fwd_flag', axis=1, inplace=True)"
      ]
    },
    {
      "cell_type": "code",
      "execution_count": 34,
      "metadata": {
        "_cell_guid": "dd10c143-b40f-450f-bc2e-7674e1478039",
        "_uuid": "7b007238b4a1c3494d6aa70eba27433a99c0cbb9"
      },
      "outputs": [
        {
          "name": "stdout",
          "output_type": "stream",
          "text": [
            "\n",
            " Coordinates of cluster centers : [[ 40.74365809 -73.98972958]\n",
            " [ 40.77010614 -73.87211064]\n",
            " [ 40.72283581 -73.99971871]\n",
            " [ 40.76560979 -73.95996226]\n",
            " [ 40.78692417 -73.96096416]\n",
            " [ 40.67843823 -73.86337058]\n",
            " [ 40.76192913 -73.98163471]\n",
            " [ 40.69518145 -73.97145523]].       \n",
            " Labels of each point : [6 0 6 ..., 6 0 2].       \n",
            " The value of the inertia criterion associated with the chosen partition: 283.9746376805633.       \n",
            " The inertia is defined as the sum of square distances of samples       to their nearest neighbor.\n"
          ]
        }
      ],
      "source": [
        "### Get some clusters of the pickup points\n",
        "pickup_clusters = np.array(result.loc[:,['pickup_latitude', 'pickup_longitude']])\n",
        "\n",
        "kmeans = MiniBatchKMeans()\n",
        "kmeans.fit(pickup_clusters)\n",
        "\n",
        "print('\\n Coordinates of cluster centers : {}. \\\n",
        "      \\n Labels of each point : {}. \\\n",
        "      \\n The value of the inertia criterion associated with the chosen partition: {}. \\\n",
        "      \\n The inertia is defined as the sum of square distances of samples \\\n",
        "      to their nearest neighbor.'.format(kmeans.cluster_centers_, \\\n",
        "      kmeans.labels_, kmeans.inertia_))"
      ]
    },
    {
      "cell_type": "code",
      "execution_count": 35,
      "metadata": {
        "_cell_guid": "b4fbd3f9-7feb-4989-bc14-99e480476590",
        "_uuid": "4b6cb19bda8862a33ec281be4cbef17d2c9d5183",
        "collapsed": true
      },
      "outputs": [],
      "source": [
        "sample_len = len(pickup_clusters)\n",
        "sample_slice = np.random.permutation(sample_len)[:int(sample_len*0.25)]"
      ]
    },
    {
      "cell_type": "code",
      "execution_count": 36,
      "metadata": {
        "_cell_guid": "b2cc92b0-ac07-449e-8e5f-28635fae4711",
        "_uuid": "7606235a1b6d222d2aac04d052cd822ad05ab02e"
      },
      "outputs": [
        {
          "name": "stderr",
          "output_type": "stream",
          "text": [
            "/opt/conda/lib/python3.6/site-packages/matplotlib/cbook.py:136: MatplotlibDeprecationWarning: The Vega20_r colormap was deprecated in version 2.0. Use tab20_r instead.\n",
            "  warnings.warn(message, mplDeprecation, stacklevel=1)\n"
          ]
        },
        {
          "data": {
            "text/plain": [
              "<matplotlib.collections.PathCollection at 0x7f73a574d3c8>"
            ]
          },
          "execution_count": 36,
          "metadata": {},
          "output_type": "execute_result"
        },
        {
          "data": {
            "image/png": "[encoded data removed]",
            "text/plain": [
              "<matplotlib.figure.Figure at 0x7f73bbb0df28>"
            ]
          },
          "metadata": {},
          "output_type": "display_data"
        }
      ],
      "source": [
        "plt.figure(figsize=(6,6))\n",
        "plt.title = \"The clasters of pickup points\"\n",
        "plt.scatter(pickup_clusters[sample_slice,0], \n",
        "            pickup_clusters[sample_slice,1],\n",
        "            c=kmeans.predict(pickup_clusters[sample_slice]), \n",
        "            s=.1, alpha=.8, lw=0, cmap='Vega20_r')"
      ]
    },
    {
      "cell_type": "code",
      "execution_count": 37,
      "metadata": {
        "_cell_guid": "17eeb5a1-ea24-476c-b11e-811e76cef88e",
        "_uuid": "982f9bae1bae8687f97506516b099bfc210ab637"
      },
      "outputs": [
        {
          "name": "stdout",
          "output_type": "stream",
          "text": [
            "0    6\n",
            "1    0\n",
            "2    6\n",
            "3    2\n",
            "4    4\n",
            "5    0\n",
            "6    3\n",
            "7    4\n",
            "8    0\n",
            "9    0\n",
            "Name: pickup_labels, dtype: int32\n"
          ]
        }
      ],
      "source": [
        "result['pickup_labels'] = kmeans.labels_\n",
        "print(result.pickup_labels[:10])"
      ]
    },
    {
      "cell_type": "code",
      "execution_count": 38,
      "metadata": {
        "_cell_guid": "b7e22aa5-55fb-43b7-b4b0-07b1dc09d605",
        "_uuid": "cf984ed0e0bf7b999a9721d9ce32984b0e51c5fb"
      },
      "outputs": [
        {
          "name": "stdout",
          "output_type": "stream",
          "text": [
            "<class 'pandas.core.frame.DataFrame'>\n",
            "Index: 2083778 entries, 0 to id0621643\n",
            "Data columns (total 16 columns):\n",
            "id                 object\n",
            "pickup_datetime    object\n",
            "trip_duration      float64\n",
            "trip_distance      float64\n",
            "bearing            float64\n",
            "pass_1.0           uint8\n",
            "pass_2.0           uint8\n",
            "pass_3.0           uint8\n",
            "pass_4.0           uint8\n",
            "pass_5.0           uint8\n",
            "pass_6.0           uint8\n",
            "vendor_1           uint8\n",
            "vendor_2           uint8\n",
            "flag_N             uint8\n",
            "flag_Y             uint8\n",
            "pickup_labels      int32\n",
            "dtypes: float64(3), int32(1), object(2), uint8(10)\n",
            "memory usage: 203.2+ MB\n",
            "None\n"
          ]
        }
      ],
      "source": [
        "drop_columns = ['pickup_latitude', 'pickup_longitude']\n",
        "result.drop(drop_columns, axis=1, inplace=True)\n",
        "print(result.info())"
      ]
    },
    {
      "cell_type": "code",
      "execution_count": 39,
      "metadata": {
        "_cell_guid": "2cf001ed-0d0b-4386-9848-092c92602273",
        "_uuid": "3f397ef143446bb8f315483cde661812a4f02586",
        "collapsed": true
      },
      "outputs": [],
      "source": [
        "result['pickup_labels'] = result.pickup_labels.astype(str)\n",
        "dummies = pd.get_dummies(result['pickup_labels'], prefix=\"pickup\")"
      ]
    },
    {
      "cell_type": "code",
      "execution_count": 40,
      "metadata": {
        "_cell_guid": "b470a587-60b2-4623-b8d3-9258ba3ca0e2",
        "_uuid": "83bd3da4ab2091b67e09619afb2b3460ab677ec0"
      },
      "outputs": [
        {
          "data": {
            "text/html": [
              "<div>\n",
              "<style>\n",
              "    .dataframe thead tr:only-child th {\n",
              "        text-align: right;\n",
              "    }\n",
              "\n",
              "    .dataframe thead th {\n",
              "        text-align: left;\n",
              "    }\n",
              "\n",
              "    .dataframe tbody tr th {\n",
              "        vertical-align: top;\n",
              "    }\n",
              "</style>\n",
              "<table border=\"1\" class=\"dataframe\">\n",
              "  <thead>\n",
              "    <tr style=\"text-align: right;\">\n",
              "      <th></th>\n",
              "      <th>pickup_0</th>\n",
              "      <th>pickup_1</th>\n",
              "      <th>pickup_2</th>\n",
              "      <th>pickup_3</th>\n",
              "      <th>pickup_4</th>\n",
              "      <th>pickup_5</th>\n",
              "      <th>pickup_6</th>\n",
              "      <th>pickup_7</th>\n",
              "    </tr>\n",
              "  </thead>\n",
              "  <tbody>\n",
              "    <tr>\n",
              "      <th>0</th>\n",
              "      <td>0</td>\n",
              "      <td>0</td>\n",
              "      <td>0</td>\n",
              "      <td>0</td>\n",
              "      <td>0</td>\n",
              "      <td>0</td>\n",
              "      <td>1</td>\n",
              "      <td>0</td>\n",
              "    </tr>\n",
              "    <tr>\n",
              "      <th>1</th>\n",
              "      <td>1</td>\n",
              "      <td>0</td>\n",
              "      <td>0</td>\n",
              "      <td>0</td>\n",
              "      <td>0</td>\n",
              "      <td>0</td>\n",
              "      <td>0</td>\n",
              "      <td>0</td>\n",
              "    </tr>\n",
              "    <tr>\n",
              "      <th>2</th>\n",
              "      <td>0</td>\n",
              "      <td>0</td>\n",
              "      <td>0</td>\n",
              "      <td>0</td>\n",
              "      <td>0</td>\n",
              "      <td>0</td>\n",
              "      <td>1</td>\n",
              "      <td>0</td>\n",
              "    </tr>\n",
              "  </tbody>\n",
              "</table>\n",
              "</div>"
            ],
            "text/plain": [
              "   pickup_0  pickup_1  pickup_2  pickup_3  pickup_4  pickup_5  pickup_6  \\\n",
              "0         0         0         0         0         0         0         1   \n",
              "1         1         0         0         0         0         0         0   \n",
              "2         0         0         0         0         0         0         1   \n",
              "\n",
              "   pickup_7  \n",
              "0         0  \n",
              "1         0  \n",
              "2         0  "
            ]
          },
          "execution_count": 40,
          "metadata": {},
          "output_type": "execute_result"
        }
      ],
      "source": [
        "dummies.head(3)"
      ]
    },
    {
      "cell_type": "code",
      "execution_count": 41,
      "metadata": {
        "_cell_guid": "9bc5a071-24ec-4746-85b1-e3e520cd5d3c",
        "_uuid": "71244478d8d75d1f664b636f07738d642bacaee5",
        "collapsed": true
      },
      "outputs": [],
      "source": [
        "result = pd.merge(result, dummies, how='inner', left_index=True, right_index=True)"
      ]
    },
    {
      "cell_type": "code",
      "execution_count": 42,
      "metadata": {
        "_cell_guid": "fdfd6f69-6a3d-47e4-bbe4-283b4162b777",
        "_uuid": "fc39d26f4ad9a2b0b5cbe11a4e59cbb659fcb4d3"
      },
      "outputs": [
        {
          "name": "stdout",
          "output_type": "stream",
          "text": [
            "<class 'pandas.core.frame.DataFrame'>\n",
            "Index: 2083778 entries, 0 to id0621643\n",
            "Data columns (total 24 columns):\n",
            "id                 object\n",
            "pickup_datetime    object\n",
            "trip_duration      float64\n",
            "trip_distance      float64\n",
            "bearing            float64\n",
            "pass_1.0           uint8\n",
            "pass_2.0           uint8\n",
            "pass_3.0           uint8\n",
            "pass_4.0           uint8\n",
            "pass_5.0           uint8\n",
            "pass_6.0           uint8\n",
            "vendor_1           uint8\n",
            "vendor_2           uint8\n",
            "flag_N             uint8\n",
            "flag_Y             uint8\n",
            "pickup_labels      object\n",
            "pickup_0           uint8\n",
            "pickup_1           uint8\n",
            "pickup_2           uint8\n",
            "pickup_3           uint8\n",
            "pickup_4           uint8\n",
            "pickup_5           uint8\n",
            "pickup_6           uint8\n",
            "pickup_7           uint8\n",
            "dtypes: float64(3), object(3), uint8(18)\n",
            "memory usage: 227.1+ MB\n",
            "None\n"
          ]
        }
      ],
      "source": [
        "print(result.info())"
      ]
    },
    {
      "cell_type": "code",
      "execution_count": 43,
      "metadata": {
        "_cell_guid": "502954ef-3fee-46f3-8d64-c423fdb2ade7",
        "_uuid": "2f327c3aa95fa4e601d69900666601e36e2eb001",
        "collapsed": true
      },
      "outputs": [],
      "source": [
        "result.drop('pickup_labels', axis=1, inplace=True)"
      ]
    },
    {
      "cell_type": "code",
      "execution_count": 44,
      "metadata": {
        "_cell_guid": "c642da70-c7ab-4b85-8a70-98ebbcf44a5b",
        "_uuid": "8e4f800bcf666c56d684ab3a6441d14e3e772250",
        "collapsed": true
      },
      "outputs": [],
      "source": [
        "result['pickup_datetime'] = pd.to_datetime(result.pickup_datetime)"
      ]
    },
    {
      "cell_type": "code",
      "execution_count": 45,
      "metadata": {
        "_cell_guid": "d7586029-3216-4fc2-89c2-706895f10133",
        "_uuid": "8711d66e9b2ca5aa10a2824dd8a0beb85aa615d5",
        "collapsed": true
      },
      "outputs": [],
      "source": [
        "result['month'] = result['pickup_datetime'][:].dt.month"
      ]
    },
    {
      "cell_type": "code",
      "execution_count": 46,
      "metadata": {
        "_cell_guid": "d5b0a01e-d15c-4a05-8508-0886e031c015",
        "_uuid": "ff426ab67955a7fa8a63f436e4067cc10cd200b2",
        "collapsed": true
      },
      "outputs": [],
      "source": [
        "result['days_in_month'] = result['pickup_datetime'][:].dt.days_in_month"
      ]
    },
    {
      "cell_type": "code",
      "execution_count": 47,
      "metadata": {
        "_cell_guid": "2a6f2630-ea91-404d-842d-3b41c1b381e0",
        "_execution_state": "idle",
        "_uuid": "588d7d54d365ce1d9ee37abfde6e4dfe7d90b157"
      },
      "outputs": [
        {
          "data": {
            "text/plain": [
              "<matplotlib.axes._subplots.AxesSubplot at 0x7f73ae7639e8>"
            ]
          },
          "execution_count": 47,
          "metadata": {},
          "output_type": "execute_result"
        },
        {
          "data": {
            "image/png": "[encoded data removed]",
            "text/plain": [
              "<matplotlib.figure.Figure at 0x7f73ae769780>"
            ]
          },
          "metadata": {},
          "output_type": "display_data"
        }
      ],
      "source": [
        "result['weekday'] = result['pickup_datetime'].dt.weekday_name\n",
        "      \n",
        "wdh = result.groupby('weekday')['trip_duration']\n",
        "(wdh.mean()).plot.hist(bins=25) "
      ]
    },
    {
      "cell_type": "code",
      "execution_count": 48,
      "metadata": {
        "_cell_guid": "b7e6e0a9-35c1-4712-938f-5290b94fe68e",
        "_uuid": "eac60bff0880436d3dc85964ba4e07e2bba9a90c",
        "collapsed": true
      },
      "outputs": [],
      "source": [
        " df_dummie = pd.get_dummies(result['weekday'][:], prefix=\"weekday\")"
      ]
    },
    {
      "cell_type": "code",
      "execution_count": 49,
      "metadata": {
        "_cell_guid": "379f9185-11cf-4237-952e-234172c9916d",
        "_uuid": "a676b96211bbcc48a980cdf944e44f0d588a9dd1"
      },
      "outputs": [
        {
          "data": {
            "text/html": [
              "<div>\n",
              "<style>\n",
              "    .dataframe thead tr:only-child th {\n",
              "        text-align: right;\n",
              "    }\n",
              "\n",
              "    .dataframe thead th {\n",
              "        text-align: left;\n",
              "    }\n",
              "\n",
              "    .dataframe tbody tr th {\n",
              "        vertical-align: top;\n",
              "    }\n",
              "</style>\n",
              "<table border=\"1\" class=\"dataframe\">\n",
              "  <thead>\n",
              "    <tr style=\"text-align: right;\">\n",
              "      <th></th>\n",
              "      <th>weekday_Friday</th>\n",
              "      <th>weekday_Monday</th>\n",
              "      <th>weekday_Saturday</th>\n",
              "      <th>weekday_Sunday</th>\n",
              "      <th>weekday_Thursday</th>\n",
              "      <th>weekday_Tuesday</th>\n",
              "      <th>weekday_Wednesday</th>\n",
              "    </tr>\n",
              "  </thead>\n",
              "  <tbody>\n",
              "    <tr>\n",
              "      <th>0</th>\n",
              "      <td>0</td>\n",
              "      <td>1</td>\n",
              "      <td>0</td>\n",
              "      <td>0</td>\n",
              "      <td>0</td>\n",
              "      <td>0</td>\n",
              "      <td>0</td>\n",
              "    </tr>\n",
              "    <tr>\n",
              "      <th>1</th>\n",
              "      <td>0</td>\n",
              "      <td>0</td>\n",
              "      <td>0</td>\n",
              "      <td>1</td>\n",
              "      <td>0</td>\n",
              "      <td>0</td>\n",
              "      <td>0</td>\n",
              "    </tr>\n",
              "    <tr>\n",
              "      <th>2</th>\n",
              "      <td>0</td>\n",
              "      <td>0</td>\n",
              "      <td>0</td>\n",
              "      <td>0</td>\n",
              "      <td>0</td>\n",
              "      <td>1</td>\n",
              "      <td>0</td>\n",
              "    </tr>\n",
              "  </tbody>\n",
              "</table>\n",
              "</div>"
            ],
            "text/plain": [
              "   weekday_Friday  weekday_Monday  weekday_Saturday  weekday_Sunday  \\\n",
              "0               0               1                 0               0   \n",
              "1               0               0                 0               1   \n",
              "2               0               0                 0               0   \n",
              "\n",
              "   weekday_Thursday  weekday_Tuesday  weekday_Wednesday  \n",
              "0                 0                0                  0  \n",
              "1                 0                0                  0  \n",
              "2                 0                1                  0  "
            ]
          },
          "execution_count": 49,
          "metadata": {},
          "output_type": "execute_result"
        }
      ],
      "source": [
        "df_dummie.head(3)"
      ]
    },
    {
      "cell_type": "code",
      "execution_count": 50,
      "metadata": {
        "_cell_guid": "621a06da-1691-4261-8f13-ca65f86b946a",
        "_uuid": "477add8b2ba6b98b9340645d34798ca40cb816f3",
        "collapsed": true
      },
      "outputs": [],
      "source": [
        "result = pd.merge(result[:], df_dummie[:], how='inner', \n",
        "                         left_index=True, right_index=True)"
      ]
    },
    {
      "cell_type": "code",
      "execution_count": 51,
      "metadata": {
        "_cell_guid": "de2479ca-90f0-42d5-9d2d-a72a2e6ec3ea",
        "_uuid": "769b1952961c506b84a2c96c67c9fa0d416f5e5f"
      },
      "outputs": [
        {
          "name": "stdout",
          "output_type": "stream",
          "text": [
            "<class 'pandas.core.frame.DataFrame'>\n",
            "Index: 2083778 entries, 0 to id0621643\n",
            "Data columns (total 33 columns):\n",
            "id                   object\n",
            "pickup_datetime      datetime64[ns]\n",
            "trip_duration        float64\n",
            "trip_distance        float64\n",
            "bearing              float64\n",
            "pass_1.0             uint8\n",
            "pass_2.0             uint8\n",
            "pass_3.0             uint8\n",
            "pass_4.0             uint8\n",
            "pass_5.0             uint8\n",
            "pass_6.0             uint8\n",
            "vendor_1             uint8\n",
            "vendor_2             uint8\n",
            "flag_N               uint8\n",
            "flag_Y               uint8\n",
            "pickup_0             uint8\n",
            "pickup_1             uint8\n",
            "pickup_2             uint8\n",
            "pickup_3             uint8\n",
            "pickup_4             uint8\n",
            "pickup_5             uint8\n",
            "pickup_6             uint8\n",
            "pickup_7             uint8\n",
            "month                int64\n",
            "days_in_month        int64\n",
            "weekday              object\n",
            "weekday_Friday       uint8\n",
            "weekday_Monday       uint8\n",
            "weekday_Saturday     uint8\n",
            "weekday_Sunday       uint8\n",
            "weekday_Thursday     uint8\n",
            "weekday_Tuesday      uint8\n",
            "weekday_Wednesday    uint8\n",
            "dtypes: datetime64[ns](1), float64(3), int64(2), object(2), uint8(25)\n",
            "memory usage: 272.8+ MB\n"
          ]
        }
      ],
      "source": [
        "result.info()"
      ]
    },
    {
      "cell_type": "code",
      "execution_count": 52,
      "metadata": {
        "_cell_guid": "9d7e3c17-97c6-4820-9357-abe5461939e4",
        "_uuid": "3604127789e3d6a59616bcb27608dd5c05b51fc9",
        "collapsed": true
      },
      "outputs": [],
      "source": [
        "result.drop('weekday', axis=1, inplace=True)"
      ]
    },
    {
      "cell_type": "code",
      "execution_count": 53,
      "metadata": {
        "_cell_guid": "b5732874-0c2c-4395-8546-a19032b15544",
        "_uuid": "e0bf2cb56e99c9e270a43b6b8d5f61b6f9192f2b",
        "collapsed": true
      },
      "outputs": [],
      "source": [
        "result['hour'] = result['pickup_datetime'][:].dt.hour"
      ]
    },
    {
      "cell_type": "code",
      "execution_count": 54,
      "metadata": {
        "_cell_guid": "d7677648-f213-4660-bc12-b04aa4f3f0cb",
        "_uuid": "c9b95b8148344471552af1f361f8eada5f24c1f5",
        "collapsed": true
      },
      "outputs": [],
      "source": [
        "result['hour'] = result.hour.astype(str)\n",
        "df_dummie= pd.get_dummies(result[\"hour\"][:], prefix=\"hour\")\n",
        "result = pd.merge(result[:], df_dummie[:], how='inner', \n",
        "                  left_index=True, right_index=True)"
      ]
    },
    {
      "cell_type": "code",
      "execution_count": 55,
      "metadata": {
        "_cell_guid": "4e221e9a-fa64-4439-9e11-0c9147d1e0a6",
        "_uuid": "dea0b8d27c47f25cf18b87cc012a420f274fd5c9"
      },
      "outputs": [
        {
          "name": "stdout",
          "output_type": "stream",
          "text": [
            "<class 'pandas.core.frame.DataFrame'>\n",
            "Index: 2083778 entries, 0 to id0621643\n",
            "Data columns (total 57 columns):\n",
            "id                   object\n",
            "pickup_datetime      datetime64[ns]\n",
            "trip_duration        float64\n",
            "trip_distance        float64\n",
            "bearing              float64\n",
            "pass_1.0             uint8\n",
            "pass_2.0             uint8\n",
            "pass_3.0             uint8\n",
            "pass_4.0             uint8\n",
            "pass_5.0             uint8\n",
            "pass_6.0             uint8\n",
            "vendor_1             uint8\n",
            "vendor_2             uint8\n",
            "flag_N               uint8\n",
            "flag_Y               uint8\n",
            "pickup_0             uint8\n",
            "pickup_1             uint8\n",
            "pickup_2             uint8\n",
            "pickup_3             uint8\n",
            "pickup_4             uint8\n",
            "pickup_5             uint8\n",
            "pickup_6             uint8\n",
            "pickup_7             uint8\n",
            "month                int64\n",
            "days_in_month        int64\n",
            "weekday_Friday       uint8\n",
            "weekday_Monday       uint8\n",
            "weekday_Saturday     uint8\n",
            "weekday_Sunday       uint8\n",
            "weekday_Thursday     uint8\n",
            "weekday_Tuesday      uint8\n",
            "weekday_Wednesday    uint8\n",
            "hour                 object\n",
            "hour_0               uint8\n",
            "hour_1               uint8\n",
            "hour_10              uint8\n",
            "hour_11              uint8\n",
            "hour_12              uint8\n",
            "hour_13              uint8\n",
            "hour_14              uint8\n",
            "hour_15              uint8\n",
            "hour_16              uint8\n",
            "hour_17              uint8\n",
            "hour_18              uint8\n",
            "hour_19              uint8\n",
            "hour_2               uint8\n",
            "hour_20              uint8\n",
            "hour_21              uint8\n",
            "hour_22              uint8\n",
            "hour_23              uint8\n",
            "hour_3               uint8\n",
            "hour_4               uint8\n",
            "hour_5               uint8\n",
            "hour_6               uint8\n",
            "hour_7               uint8\n",
            "hour_8               uint8\n",
            "hour_9               uint8\n",
            "dtypes: datetime64[ns](1), float64(3), int64(2), object(2), uint8(49)\n",
            "memory usage: 320.5+ MB\n"
          ]
        }
      ],
      "source": [
        "result.info()"
      ]
    },
    {
      "cell_type": "code",
      "execution_count": 56,
      "metadata": {
        "_cell_guid": "fab0cbf6-da43-456a-b6c1-6cc5d9267522",
        "_execution_state": "idle",
        "_uuid": "8740770cb613c69fac95b5aef6581938ca8b7fb5",
        "scrolled": true
      },
      "outputs": [
        {
          "data": {
            "text/plain": [
              "<matplotlib.axes._subplots.AxesSubplot at 0x7f73ae6d2be0>"
            ]
          },
          "execution_count": 56,
          "metadata": {},
          "output_type": "execute_result"
        },
        {
          "data": {
            "image/png": "[encoded data removed]",
            "text/plain": [
              "<matplotlib.figure.Figure at 0x7f7378478c88>"
            ]
          },
          "metadata": {},
          "output_type": "display_data"
        }
      ],
      "source": [
        "wdh = result.groupby('hour')['trip_duration']\n",
        "(wdh.mean()).plot.hist(bins=25)"
      ]
    },
    {
      "cell_type": "code",
      "execution_count": 57,
      "metadata": {
        "_cell_guid": "890e2702-9335-4962-a33c-37be04bf6ffe",
        "_uuid": "a54de9ba2bae45ed068052ac05ba502755365bc9",
        "collapsed": true
      },
      "outputs": [],
      "source": [
        "result.drop('hour', axis=1, inplace=True)"
      ]
    },
    {
      "cell_type": "code",
      "execution_count": 58,
      "metadata": {
        "_cell_guid": "388901ce-2306-4637-99ef-d0d02786e971",
        "_execution_state": "idle",
        "_uuid": "3fc56eb72b1385f52f1b436d6ad78490cab7ad34",
        "collapsed": true,
        "scrolled": true
      },
      "outputs": [],
      "source": [
        "result['minute'] = result['pickup_datetime'][:].dt.minute"
      ]
    },
    {
      "cell_type": "code",
      "execution_count": 59,
      "metadata": {
        "_cell_guid": "a35c374f-d090-4dfe-b6b9-9a44c554d877",
        "_uuid": "b2912ab9033b7352fc2efc8a9f6395ecbb72cfe9"
      },
      "outputs": [
        {
          "name": "stdout",
          "output_type": "stream",
          "text": [
            "<class 'pandas.core.frame.DataFrame'>\n",
            "Index: 2083778 entries, 0 to id0621643\n",
            "Data columns (total 57 columns):\n",
            "id                   object\n",
            "pickup_datetime      datetime64[ns]\n",
            "trip_duration        float64\n",
            "trip_distance        float64\n",
            "bearing              float64\n",
            "pass_1.0             uint8\n",
            "pass_2.0             uint8\n",
            "pass_3.0             uint8\n",
            "pass_4.0             uint8\n",
            "pass_5.0             uint8\n",
            "pass_6.0             uint8\n",
            "vendor_1             uint8\n",
            "vendor_2             uint8\n",
            "flag_N               uint8\n",
            "flag_Y               uint8\n",
            "pickup_0             uint8\n",
            "pickup_1             uint8\n",
            "pickup_2             uint8\n",
            "pickup_3             uint8\n",
            "pickup_4             uint8\n",
            "pickup_5             uint8\n",
            "pickup_6             uint8\n",
            "pickup_7             uint8\n",
            "month                int64\n",
            "days_in_month        int64\n",
            "weekday_Friday       uint8\n",
            "weekday_Monday       uint8\n",
            "weekday_Saturday     uint8\n",
            "weekday_Sunday       uint8\n",
            "weekday_Thursday     uint8\n",
            "weekday_Tuesday      uint8\n",
            "weekday_Wednesday    uint8\n",
            "hour_0               uint8\n",
            "hour_1               uint8\n",
            "hour_10              uint8\n",
            "hour_11              uint8\n",
            "hour_12              uint8\n",
            "hour_13              uint8\n",
            "hour_14              uint8\n",
            "hour_15              uint8\n",
            "hour_16              uint8\n",
            "hour_17              uint8\n",
            "hour_18              uint8\n",
            "hour_19              uint8\n",
            "hour_2               uint8\n",
            "hour_20              uint8\n",
            "hour_21              uint8\n",
            "hour_22              uint8\n",
            "hour_23              uint8\n",
            "hour_3               uint8\n",
            "hour_4               uint8\n",
            "hour_5               uint8\n",
            "hour_6               uint8\n",
            "hour_7               uint8\n",
            "hour_8               uint8\n",
            "hour_9               uint8\n",
            "minute               int64\n",
            "dtypes: datetime64[ns](1), float64(3), int64(3), object(1), uint8(49)\n",
            "memory usage: 320.5+ MB\n",
            "None\n"
          ]
        }
      ],
      "source": [
        "print(result.info())"
      ]
    },
    {
      "cell_type": "code",
      "execution_count": 60,
      "metadata": {
        "_cell_guid": "a308c4bb-6d89-4409-aaf8-bf315afe88f5",
        "_uuid": "daa80ee409da81c0b6212de5e581fcf6306a1345",
        "collapsed": true
      },
      "outputs": [],
      "source": [
        "result.drop('pickup_datetime', axis=1, inplace=True)"
      ]
    },
    {
      "cell_type": "code",
      "execution_count": 61,
      "metadata": {
        "_cell_guid": "d2f95438-8e1f-4a60-b9e2-9ea47c029948",
        "_uuid": "8b60f498683ae1324dd50e3eff32111ad81892ca"
      },
      "outputs": [
        {
          "name": "stdout",
          "output_type": "stream",
          "text": [
            "<class 'pandas.core.frame.DataFrame'>\n",
            "Index: 2083778 entries, 0 to id0621643\n",
            "Data columns (total 56 columns):\n",
            "id                   object\n",
            "trip_duration        float64\n",
            "trip_distance        float64\n",
            "bearing              float64\n",
            "pass_1.0             uint8\n",
            "pass_2.0             uint8\n",
            "pass_3.0             uint8\n",
            "pass_4.0             uint8\n",
            "pass_5.0             uint8\n",
            "pass_6.0             uint8\n",
            "vendor_1             uint8\n",
            "vendor_2             uint8\n",
            "flag_N               uint8\n",
            "flag_Y               uint8\n",
            "pickup_0             uint8\n",
            "pickup_1             uint8\n",
            "pickup_2             uint8\n",
            "pickup_3             uint8\n",
            "pickup_4             uint8\n",
            "pickup_5             uint8\n",
            "pickup_6             uint8\n",
            "pickup_7             uint8\n",
            "month                int64\n",
            "days_in_month        int64\n",
            "weekday_Friday       uint8\n",
            "weekday_Monday       uint8\n",
            "weekday_Saturday     uint8\n",
            "weekday_Sunday       uint8\n",
            "weekday_Thursday     uint8\n",
            "weekday_Tuesday      uint8\n",
            "weekday_Wednesday    uint8\n",
            "hour_0               uint8\n",
            "hour_1               uint8\n",
            "hour_10              uint8\n",
            "hour_11              uint8\n",
            "hour_12              uint8\n",
            "hour_13              uint8\n",
            "hour_14              uint8\n",
            "hour_15              uint8\n",
            "hour_16              uint8\n",
            "hour_17              uint8\n",
            "hour_18              uint8\n",
            "hour_19              uint8\n",
            "hour_2               uint8\n",
            "hour_20              uint8\n",
            "hour_21              uint8\n",
            "hour_22              uint8\n",
            "hour_23              uint8\n",
            "hour_3               uint8\n",
            "hour_4               uint8\n",
            "hour_5               uint8\n",
            "hour_6               uint8\n",
            "hour_7               uint8\n",
            "hour_8               uint8\n",
            "hour_9               uint8\n",
            "minute               int64\n",
            "dtypes: float64(3), int64(3), object(1), uint8(49)\n",
            "memory usage: 304.6+ MB\n",
            "None\n"
          ]
        }
      ],
      "source": [
        "print(result.info())"
      ]
    },
    {
      "cell_type": "code",
      "execution_count": 62,
      "metadata": {
        "_cell_guid": "c10eb8e0-4f84-4411-8efb-bc2eef73ba6e",
        "_uuid": "7959de77760fe53fba94372c29f61a1e6f200b86",
        "collapsed": true
      },
      "outputs": [],
      "source": [
        "result.to_csv('result.csv')"
      ]
    },
    {
      "cell_type": "code",
      "execution_count": 63,
      "metadata": {
        "_cell_guid": "bdcd2e42-efd7-4d58-bab0-d61a31376c9f",
        "_uuid": "e88c59089a599534bce368fec3738ff582cd2891"
      },
      "outputs": [
        {
          "data": {
            "text/plain": [
              "False    1458644\n",
              "True      625134\n",
              "Name: trip_duration, dtype: int64"
            ]
          },
          "execution_count": 63,
          "metadata": {},
          "output_type": "execute_result"
        }
      ],
      "source": [
        "result.trip_duration.isnull().value_counts()"
      ]
    },
    {
      "cell_type": "code",
      "execution_count": 64,
      "metadata": {
        "_cell_guid": "2a40db26-4556-4f69-b510-0eee7047f286",
        "_uuid": "19c71c58cc981bff7f268752801cad1f7e05813f"
      },
      "outputs": [
        {
          "data": {
            "text/html": [
              "<div>\n",
              "<style>\n",
              "    .dataframe thead tr:only-child th {\n",
              "        text-align: right;\n",
              "    }\n",
              "\n",
              "    .dataframe thead th {\n",
              "        text-align: left;\n",
              "    }\n",
              "\n",
              "    .dataframe tbody tr th {\n",
              "        vertical-align: top;\n",
              "    }\n",
              "</style>\n",
              "<table border=\"1\" class=\"dataframe\">\n",
              "  <thead>\n",
              "    <tr style=\"text-align: right;\">\n",
              "      <th></th>\n",
              "      <th>trip_duration</th>\n",
              "      <th>trip_distance</th>\n",
              "      <th>bearing</th>\n",
              "      <th>pass_1.0</th>\n",
              "      <th>pass_2.0</th>\n",
              "      <th>pass_3.0</th>\n",
              "      <th>pass_4.0</th>\n",
              "      <th>pass_5.0</th>\n",
              "      <th>pass_6.0</th>\n",
              "      <th>vendor_1</th>\n",
              "      <th>...</th>\n",
              "      <th>hour_22</th>\n",
              "      <th>hour_23</th>\n",
              "      <th>hour_3</th>\n",
              "      <th>hour_4</th>\n",
              "      <th>hour_5</th>\n",
              "      <th>hour_6</th>\n",
              "      <th>hour_7</th>\n",
              "      <th>hour_8</th>\n",
              "      <th>hour_9</th>\n",
              "      <th>minute</th>\n",
              "    </tr>\n",
              "  </thead>\n",
              "  <tbody>\n",
              "    <tr>\n",
              "      <th>count</th>\n",
              "      <td>0.0</td>\n",
              "      <td>625134.000000</td>\n",
              "      <td>625134.000000</td>\n",
              "      <td>625134.00000</td>\n",
              "      <td>625134.000000</td>\n",
              "      <td>625134.000000</td>\n",
              "      <td>625134.000000</td>\n",
              "      <td>625134.000000</td>\n",
              "      <td>625134.000000</td>\n",
              "      <td>625134.000000</td>\n",
              "      <td>...</td>\n",
              "      <td>625134.000000</td>\n",
              "      <td>625134.000000</td>\n",
              "      <td>625134.000000</td>\n",
              "      <td>625134.000000</td>\n",
              "      <td>625134.000000</td>\n",
              "      <td>625134.000000</td>\n",
              "      <td>625134.000000</td>\n",
              "      <td>625134.000000</td>\n",
              "      <td>625134.000000</td>\n",
              "      <td>625134.000000</td>\n",
              "    </tr>\n",
              "    <tr>\n",
              "      <th>mean</th>\n",
              "      <td>NaN</td>\n",
              "      <td>1.919007</td>\n",
              "      <td>-15.833621</td>\n",
              "      <td>0.70940</td>\n",
              "      <td>0.144012</td>\n",
              "      <td>0.041089</td>\n",
              "      <td>0.019223</td>\n",
              "      <td>0.053446</td>\n",
              "      <td>0.032830</td>\n",
              "      <td>0.465116</td>\n",
              "      <td>...</td>\n",
              "      <td>0.055295</td>\n",
              "      <td>0.047783</td>\n",
              "      <td>0.014207</td>\n",
              "      <td>0.010900</td>\n",
              "      <td>0.010347</td>\n",
              "      <td>0.022590</td>\n",
              "      <td>0.038101</td>\n",
              "      <td>0.046157</td>\n",
              "      <td>0.046593</td>\n",
              "      <td>29.598908</td>\n",
              "    </tr>\n",
              "    <tr>\n",
              "      <th>std</th>\n",
              "      <td>NaN</td>\n",
              "      <td>1.766374</td>\n",
              "      <td>104.173169</td>\n",
              "      <td>0.45404</td>\n",
              "      <td>0.351103</td>\n",
              "      <td>0.198496</td>\n",
              "      <td>0.137308</td>\n",
              "      <td>0.224922</td>\n",
              "      <td>0.178191</td>\n",
              "      <td>0.498782</td>\n",
              "      <td>...</td>\n",
              "      <td>0.228556</td>\n",
              "      <td>0.213308</td>\n",
              "      <td>0.118342</td>\n",
              "      <td>0.103833</td>\n",
              "      <td>0.101191</td>\n",
              "      <td>0.148594</td>\n",
              "      <td>0.191439</td>\n",
              "      <td>0.209824</td>\n",
              "      <td>0.210766</td>\n",
              "      <td>17.330197</td>\n",
              "    </tr>\n",
              "    <tr>\n",
              "      <th>min</th>\n",
              "      <td>NaN</td>\n",
              "      <td>0.380000</td>\n",
              "      <td>-180.000000</td>\n",
              "      <td>0.00000</td>\n",
              "      <td>0.000000</td>\n",
              "      <td>0.000000</td>\n",
              "      <td>0.000000</td>\n",
              "      <td>0.000000</td>\n",
              "      <td>0.000000</td>\n",
              "      <td>0.000000</td>\n",
              "      <td>...</td>\n",
              "      <td>0.000000</td>\n",
              "      <td>0.000000</td>\n",
              "      <td>0.000000</td>\n",
              "      <td>0.000000</td>\n",
              "      <td>0.000000</td>\n",
              "      <td>0.000000</td>\n",
              "      <td>0.000000</td>\n",
              "      <td>0.000000</td>\n",
              "      <td>0.000000</td>\n",
              "      <td>0.000000</td>\n",
              "    </tr>\n",
              "    <tr>\n",
              "      <th>25%</th>\n",
              "      <td>NaN</td>\n",
              "      <td>0.760000</td>\n",
              "      <td>-124.000000</td>\n",
              "      <td>0.00000</td>\n",
              "      <td>0.000000</td>\n",
              "      <td>0.000000</td>\n",
              "      <td>0.000000</td>\n",
              "      <td>0.000000</td>\n",
              "      <td>0.000000</td>\n",
              "      <td>0.000000</td>\n",
              "      <td>...</td>\n",
              "      <td>0.000000</td>\n",
              "      <td>0.000000</td>\n",
              "      <td>0.000000</td>\n",
              "      <td>0.000000</td>\n",
              "      <td>0.000000</td>\n",
              "      <td>0.000000</td>\n",
              "      <td>0.000000</td>\n",
              "      <td>0.000000</td>\n",
              "      <td>0.000000</td>\n",
              "      <td>15.000000</td>\n",
              "    </tr>\n",
              "    <tr>\n",
              "      <th>50%</th>\n",
              "      <td>NaN</td>\n",
              "      <td>1.280000</td>\n",
              "      <td>7.000000</td>\n",
              "      <td>1.00000</td>\n",
              "      <td>0.000000</td>\n",
              "      <td>0.000000</td>\n",
              "      <td>0.000000</td>\n",
              "      <td>0.000000</td>\n",
              "      <td>0.000000</td>\n",
              "      <td>0.000000</td>\n",
              "      <td>...</td>\n",
              "      <td>0.000000</td>\n",
              "      <td>0.000000</td>\n",
              "      <td>0.000000</td>\n",
              "      <td>0.000000</td>\n",
              "      <td>0.000000</td>\n",
              "      <td>0.000000</td>\n",
              "      <td>0.000000</td>\n",
              "      <td>0.000000</td>\n",
              "      <td>0.000000</td>\n",
              "      <td>30.000000</td>\n",
              "    </tr>\n",
              "    <tr>\n",
              "      <th>75%</th>\n",
              "      <td>NaN</td>\n",
              "      <td>2.350000</td>\n",
              "      <td>53.000000</td>\n",
              "      <td>1.00000</td>\n",
              "      <td>0.000000</td>\n",
              "      <td>0.000000</td>\n",
              "      <td>0.000000</td>\n",
              "      <td>0.000000</td>\n",
              "      <td>0.000000</td>\n",
              "      <td>1.000000</td>\n",
              "      <td>...</td>\n",
              "      <td>0.000000</td>\n",
              "      <td>0.000000</td>\n",
              "      <td>0.000000</td>\n",
              "      <td>0.000000</td>\n",
              "      <td>0.000000</td>\n",
              "      <td>0.000000</td>\n",
              "      <td>0.000000</td>\n",
              "      <td>0.000000</td>\n",
              "      <td>0.000000</td>\n",
              "      <td>45.000000</td>\n",
              "    </tr>\n",
              "    <tr>\n",
              "      <th>max</th>\n",
              "      <td>NaN</td>\n",
              "      <td>11.930000</td>\n",
              "      <td>180.000000</td>\n",
              "      <td>1.00000</td>\n",
              "      <td>1.000000</td>\n",
              "      <td>1.000000</td>\n",
              "      <td>1.000000</td>\n",
              "      <td>1.000000</td>\n",
              "      <td>1.000000</td>\n",
              "      <td>1.000000</td>\n",
              "      <td>...</td>\n",
              "      <td>1.000000</td>\n",
              "      <td>1.000000</td>\n",
              "      <td>1.000000</td>\n",
              "      <td>1.000000</td>\n",
              "      <td>1.000000</td>\n",
              "      <td>1.000000</td>\n",
              "      <td>1.000000</td>\n",
              "      <td>1.000000</td>\n",
              "      <td>1.000000</td>\n",
              "      <td>59.000000</td>\n",
              "    </tr>\n",
              "  </tbody>\n",
              "</table>\n",
              "<p>8 rows × 55 columns</p>\n",
              "</div>"
            ],
            "text/plain": [
              "       trip_duration  trip_distance        bearing      pass_1.0  \\\n",
              "count            0.0  625134.000000  625134.000000  625134.00000   \n",
              "mean             NaN       1.919007     -15.833621       0.70940   \n",
              "std              NaN       1.766374     104.173169       0.45404   \n",
              "min              NaN       0.380000    -180.000000       0.00000   \n",
              "25%              NaN       0.760000    -124.000000       0.00000   \n",
              "50%              NaN       1.280000       7.000000       1.00000   \n",
              "75%              NaN       2.350000      53.000000       1.00000   \n",
              "max              NaN      11.930000     180.000000       1.00000   \n",
              "\n",
              "            pass_2.0       pass_3.0       pass_4.0       pass_5.0  \\\n",
              "count  625134.000000  625134.000000  625134.000000  625134.000000   \n",
              "mean        0.144012       0.041089       0.019223       0.053446   \n",
              "std         0.351103       0.198496       0.137308       0.224922   \n",
              "min         0.000000       0.000000       0.000000       0.000000   \n",
              "25%         0.000000       0.000000       0.000000       0.000000   \n",
              "50%         0.000000       0.000000       0.000000       0.000000   \n",
              "75%         0.000000       0.000000       0.000000       0.000000   \n",
              "max         1.000000       1.000000       1.000000       1.000000   \n",
              "\n",
              "            pass_6.0       vendor_1      ...              hour_22  \\\n",
              "count  625134.000000  625134.000000      ...        625134.000000   \n",
              "mean        0.032830       0.465116      ...             0.055295   \n",
              "std         0.178191       0.498782      ...             0.228556   \n",
              "min         0.000000       0.000000      ...             0.000000   \n",
              "25%         0.000000       0.000000      ...             0.000000   \n",
              "50%         0.000000       0.000000      ...             0.000000   \n",
              "75%         0.000000       1.000000      ...             0.000000   \n",
              "max         1.000000       1.000000      ...             1.000000   \n",
              "\n",
              "             hour_23         hour_3         hour_4         hour_5  \\\n",
              "count  625134.000000  625134.000000  625134.000000  625134.000000   \n",
              "mean        0.047783       0.014207       0.010900       0.010347   \n",
              "std         0.213308       0.118342       0.103833       0.101191   \n",
              "min         0.000000       0.000000       0.000000       0.000000   \n",
              "25%         0.000000       0.000000       0.000000       0.000000   \n",
              "50%         0.000000       0.000000       0.000000       0.000000   \n",
              "75%         0.000000       0.000000       0.000000       0.000000   \n",
              "max         1.000000       1.000000       1.000000       1.000000   \n",
              "\n",
              "              hour_6         hour_7         hour_8         hour_9  \\\n",
              "count  625134.000000  625134.000000  625134.000000  625134.000000   \n",
              "mean        0.022590       0.038101       0.046157       0.046593   \n",
              "std         0.148594       0.191439       0.209824       0.210766   \n",
              "min         0.000000       0.000000       0.000000       0.000000   \n",
              "25%         0.000000       0.000000       0.000000       0.000000   \n",
              "50%         0.000000       0.000000       0.000000       0.000000   \n",
              "75%         0.000000       0.000000       0.000000       0.000000   \n",
              "max         1.000000       1.000000       1.000000       1.000000   \n",
              "\n",
              "              minute  \n",
              "count  625134.000000  \n",
              "mean       29.598908  \n",
              "std        17.330197  \n",
              "min         0.000000  \n",
              "25%        15.000000  \n",
              "50%        30.000000  \n",
              "75%        45.000000  \n",
              "max        59.000000  \n",
              "\n",
              "[8 rows x 55 columns]"
            ]
          },
          "execution_count": 64,
          "metadata": {},
          "output_type": "execute_result"
        }
      ],
      "source": [
        "# I cut off the test set with new signs.\n",
        "test = result[result.trip_duration.isnull()]\n",
        "test.describe()"
      ]
    },
    {
      "cell_type": "markdown",
      "metadata": {
        "_cell_guid": "22b31540-012f-433e-8758-026bbd870c5e",
        "_uuid": "cfb99881c8cb5c9ac9061733b8b1b5719a4e4da1"
      },
      "source": [
        "And training set too ..."
      ]
    },
    {
      "cell_type": "code",
      "execution_count": 65,
      "metadata": {
        "_cell_guid": "fe12deb9-5623-4986-9d29-132cf0bdef60",
        "_uuid": "5203384b5afcce15afb182aeef2ad63e6e3fbb4c"
      },
      "outputs": [
        {
          "data": {
            "text/html": [
              "<div>\n",
              "<style>\n",
              "    .dataframe thead tr:only-child th {\n",
              "        text-align: right;\n",
              "    }\n",
              "\n",
              "    .dataframe thead th {\n",
              "        text-align: left;\n",
              "    }\n",
              "\n",
              "    .dataframe tbody tr th {\n",
              "        vertical-align: top;\n",
              "    }\n",
              "</style>\n",
              "<table border=\"1\" class=\"dataframe\">\n",
              "  <thead>\n",
              "    <tr style=\"text-align: right;\">\n",
              "      <th></th>\n",
              "      <th>trip_duration</th>\n",
              "      <th>trip_distance</th>\n",
              "      <th>bearing</th>\n",
              "      <th>pass_1.0</th>\n",
              "      <th>pass_2.0</th>\n",
              "      <th>pass_3.0</th>\n",
              "      <th>pass_4.0</th>\n",
              "      <th>pass_5.0</th>\n",
              "      <th>pass_6.0</th>\n",
              "      <th>vendor_1</th>\n",
              "      <th>...</th>\n",
              "      <th>hour_22</th>\n",
              "      <th>hour_23</th>\n",
              "      <th>hour_3</th>\n",
              "      <th>hour_4</th>\n",
              "      <th>hour_5</th>\n",
              "      <th>hour_6</th>\n",
              "      <th>hour_7</th>\n",
              "      <th>hour_8</th>\n",
              "      <th>hour_9</th>\n",
              "      <th>minute</th>\n",
              "    </tr>\n",
              "  </thead>\n",
              "  <tbody>\n",
              "    <tr>\n",
              "      <th>count</th>\n",
              "      <td>1.458644e+06</td>\n",
              "      <td>1.458644e+06</td>\n",
              "      <td>1.458644e+06</td>\n",
              "      <td>1.458644e+06</td>\n",
              "      <td>1.458644e+06</td>\n",
              "      <td>1.458644e+06</td>\n",
              "      <td>1.458644e+06</td>\n",
              "      <td>1.458644e+06</td>\n",
              "      <td>1.458644e+06</td>\n",
              "      <td>1.458644e+06</td>\n",
              "      <td>...</td>\n",
              "      <td>1.458644e+06</td>\n",
              "      <td>1.458644e+06</td>\n",
              "      <td>1.458644e+06</td>\n",
              "      <td>1.458644e+06</td>\n",
              "      <td>1.458644e+06</td>\n",
              "      <td>1.458644e+06</td>\n",
              "      <td>1.458644e+06</td>\n",
              "      <td>1.458644e+06</td>\n",
              "      <td>1.458644e+06</td>\n",
              "      <td>1.458644e+06</td>\n",
              "    </tr>\n",
              "    <tr>\n",
              "      <th>mean</th>\n",
              "      <td>8.043713e+02</td>\n",
              "      <td>1.921218e+00</td>\n",
              "      <td>-1.591616e+01</td>\n",
              "      <td>7.086033e-01</td>\n",
              "      <td>1.441873e-01</td>\n",
              "      <td>4.106280e-02</td>\n",
              "      <td>1.947288e-02</td>\n",
              "      <td>5.353465e-02</td>\n",
              "      <td>3.313900e-02</td>\n",
              "      <td>4.650497e-01</td>\n",
              "      <td>...</td>\n",
              "      <td>5.518276e-02</td>\n",
              "      <td>4.784238e-02</td>\n",
              "      <td>1.432495e-02</td>\n",
              "      <td>1.082649e-02</td>\n",
              "      <td>1.028489e-02</td>\n",
              "      <td>2.279377e-02</td>\n",
              "      <td>3.811759e-02</td>\n",
              "      <td>4.596941e-02</td>\n",
              "      <td>4.638760e-02</td>\n",
              "      <td>2.959016e+01</td>\n",
              "    </tr>\n",
              "    <tr>\n",
              "      <th>std</th>\n",
              "      <td>5.267916e+02</td>\n",
              "      <td>1.771436e+00</td>\n",
              "      <td>1.042109e+02</td>\n",
              "      <td>4.544060e-01</td>\n",
              "      <td>3.512797e-01</td>\n",
              "      <td>1.984356e-01</td>\n",
              "      <td>1.381800e-01</td>\n",
              "      <td>2.250972e-01</td>\n",
              "      <td>1.789995e-01</td>\n",
              "      <td>4.987772e-01</td>\n",
              "      <td>...</td>\n",
              "      <td>2.283367e-01</td>\n",
              "      <td>2.134327e-01</td>\n",
              "      <td>1.188266e-01</td>\n",
              "      <td>1.034857e-01</td>\n",
              "      <td>1.008916e-01</td>\n",
              "      <td>1.492455e-01</td>\n",
              "      <td>1.914802e-01</td>\n",
              "      <td>2.094188e-01</td>\n",
              "      <td>2.103231e-01</td>\n",
              "      <td>1.732471e+01</td>\n",
              "    </tr>\n",
              "    <tr>\n",
              "      <th>min</th>\n",
              "      <td>1.810000e+02</td>\n",
              "      <td>3.800000e-01</td>\n",
              "      <td>-1.800000e+02</td>\n",
              "      <td>0.000000e+00</td>\n",
              "      <td>0.000000e+00</td>\n",
              "      <td>0.000000e+00</td>\n",
              "      <td>0.000000e+00</td>\n",
              "      <td>0.000000e+00</td>\n",
              "      <td>0.000000e+00</td>\n",
              "      <td>0.000000e+00</td>\n",
              "      <td>...</td>\n",
              "      <td>0.000000e+00</td>\n",
              "      <td>0.000000e+00</td>\n",
              "      <td>0.000000e+00</td>\n",
              "      <td>0.000000e+00</td>\n",
              "      <td>0.000000e+00</td>\n",
              "      <td>0.000000e+00</td>\n",
              "      <td>0.000000e+00</td>\n",
              "      <td>0.000000e+00</td>\n",
              "      <td>0.000000e+00</td>\n",
              "      <td>0.000000e+00</td>\n",
              "    </tr>\n",
              "    <tr>\n",
              "      <th>25%</th>\n",
              "      <td>3.970000e+02</td>\n",
              "      <td>7.600000e-01</td>\n",
              "      <td>-1.250000e+02</td>\n",
              "      <td>0.000000e+00</td>\n",
              "      <td>0.000000e+00</td>\n",
              "      <td>0.000000e+00</td>\n",
              "      <td>0.000000e+00</td>\n",
              "      <td>0.000000e+00</td>\n",
              "      <td>0.000000e+00</td>\n",
              "      <td>0.000000e+00</td>\n",
              "      <td>...</td>\n",
              "      <td>0.000000e+00</td>\n",
              "      <td>0.000000e+00</td>\n",
              "      <td>0.000000e+00</td>\n",
              "      <td>0.000000e+00</td>\n",
              "      <td>0.000000e+00</td>\n",
              "      <td>0.000000e+00</td>\n",
              "      <td>0.000000e+00</td>\n",
              "      <td>0.000000e+00</td>\n",
              "      <td>0.000000e+00</td>\n",
              "      <td>1.500000e+01</td>\n",
              "    </tr>\n",
              "    <tr>\n",
              "      <th>50%</th>\n",
              "      <td>6.620000e+02</td>\n",
              "      <td>1.280000e+00</td>\n",
              "      <td>7.000000e+00</td>\n",
              "      <td>1.000000e+00</td>\n",
              "      <td>0.000000e+00</td>\n",
              "      <td>0.000000e+00</td>\n",
              "      <td>0.000000e+00</td>\n",
              "      <td>0.000000e+00</td>\n",
              "      <td>0.000000e+00</td>\n",
              "      <td>0.000000e+00</td>\n",
              "      <td>...</td>\n",
              "      <td>0.000000e+00</td>\n",
              "      <td>0.000000e+00</td>\n",
              "      <td>0.000000e+00</td>\n",
              "      <td>0.000000e+00</td>\n",
              "      <td>0.000000e+00</td>\n",
              "      <td>0.000000e+00</td>\n",
              "      <td>0.000000e+00</td>\n",
              "      <td>0.000000e+00</td>\n",
              "      <td>0.000000e+00</td>\n",
              "      <td>3.000000e+01</td>\n",
              "    </tr>\n",
              "    <tr>\n",
              "      <th>75%</th>\n",
              "      <td>1.075000e+03</td>\n",
              "      <td>2.350000e+00</td>\n",
              "      <td>5.300000e+01</td>\n",
              "      <td>1.000000e+00</td>\n",
              "      <td>0.000000e+00</td>\n",
              "      <td>0.000000e+00</td>\n",
              "      <td>0.000000e+00</td>\n",
              "      <td>0.000000e+00</td>\n",
              "      <td>0.000000e+00</td>\n",
              "      <td>1.000000e+00</td>\n",
              "      <td>...</td>\n",
              "      <td>0.000000e+00</td>\n",
              "      <td>0.000000e+00</td>\n",
              "      <td>0.000000e+00</td>\n",
              "      <td>0.000000e+00</td>\n",
              "      <td>0.000000e+00</td>\n",
              "      <td>0.000000e+00</td>\n",
              "      <td>0.000000e+00</td>\n",
              "      <td>0.000000e+00</td>\n",
              "      <td>0.000000e+00</td>\n",
              "      <td>4.500000e+01</td>\n",
              "    </tr>\n",
              "    <tr>\n",
              "      <th>max</th>\n",
              "      <td>2.103000e+03</td>\n",
              "      <td>1.193000e+01</td>\n",
              "      <td>1.800000e+02</td>\n",
              "      <td>1.000000e+00</td>\n",
              "      <td>1.000000e+00</td>\n",
              "      <td>1.000000e+00</td>\n",
              "      <td>1.000000e+00</td>\n",
              "      <td>1.000000e+00</td>\n",
              "      <td>1.000000e+00</td>\n",
              "      <td>1.000000e+00</td>\n",
              "      <td>...</td>\n",
              "      <td>1.000000e+00</td>\n",
              "      <td>1.000000e+00</td>\n",
              "      <td>1.000000e+00</td>\n",
              "      <td>1.000000e+00</td>\n",
              "      <td>1.000000e+00</td>\n",
              "      <td>1.000000e+00</td>\n",
              "      <td>1.000000e+00</td>\n",
              "      <td>1.000000e+00</td>\n",
              "      <td>1.000000e+00</td>\n",
              "      <td>5.900000e+01</td>\n",
              "    </tr>\n",
              "  </tbody>\n",
              "</table>\n",
              "<p>8 rows × 55 columns</p>\n",
              "</div>"
            ],
            "text/plain": [
              "       trip_duration  trip_distance       bearing      pass_1.0      pass_2.0  \\\n",
              "count   1.458644e+06   1.458644e+06  1.458644e+06  1.458644e+06  1.458644e+06   \n",
              "mean    8.043713e+02   1.921218e+00 -1.591616e+01  7.086033e-01  1.441873e-01   \n",
              "std     5.267916e+02   1.771436e+00  1.042109e+02  4.544060e-01  3.512797e-01   \n",
              "min     1.810000e+02   3.800000e-01 -1.800000e+02  0.000000e+00  0.000000e+00   \n",
              "25%     3.970000e+02   7.600000e-01 -1.250000e+02  0.000000e+00  0.000000e+00   \n",
              "50%     6.620000e+02   1.280000e+00  7.000000e+00  1.000000e+00  0.000000e+00   \n",
              "75%     1.075000e+03   2.350000e+00  5.300000e+01  1.000000e+00  0.000000e+00   \n",
              "max     2.103000e+03   1.193000e+01  1.800000e+02  1.000000e+00  1.000000e+00   \n",
              "\n",
              "           pass_3.0      pass_4.0      pass_5.0      pass_6.0      vendor_1  \\\n",
              "count  1.458644e+06  1.458644e+06  1.458644e+06  1.458644e+06  1.458644e+06   \n",
              "mean   4.106280e-02  1.947288e-02  5.353465e-02  3.313900e-02  4.650497e-01   \n",
              "std    1.984356e-01  1.381800e-01  2.250972e-01  1.789995e-01  4.987772e-01   \n",
              "min    0.000000e+00  0.000000e+00  0.000000e+00  0.000000e+00  0.000000e+00   \n",
              "25%    0.000000e+00  0.000000e+00  0.000000e+00  0.000000e+00  0.000000e+00   \n",
              "50%    0.000000e+00  0.000000e+00  0.000000e+00  0.000000e+00  0.000000e+00   \n",
              "75%    0.000000e+00  0.000000e+00  0.000000e+00  0.000000e+00  1.000000e+00   \n",
              "max    1.000000e+00  1.000000e+00  1.000000e+00  1.000000e+00  1.000000e+00   \n",
              "\n",
              "           ...            hour_22       hour_23        hour_3        hour_4  \\\n",
              "count      ...       1.458644e+06  1.458644e+06  1.458644e+06  1.458644e+06   \n",
              "mean       ...       5.518276e-02  4.784238e-02  1.432495e-02  1.082649e-02   \n",
              "std        ...       2.283367e-01  2.134327e-01  1.188266e-01  1.034857e-01   \n",
              "min        ...       0.000000e+00  0.000000e+00  0.000000e+00  0.000000e+00   \n",
              "25%        ...       0.000000e+00  0.000000e+00  0.000000e+00  0.000000e+00   \n",
              "50%        ...       0.000000e+00  0.000000e+00  0.000000e+00  0.000000e+00   \n",
              "75%        ...       0.000000e+00  0.000000e+00  0.000000e+00  0.000000e+00   \n",
              "max        ...       1.000000e+00  1.000000e+00  1.000000e+00  1.000000e+00   \n",
              "\n",
              "             hour_5        hour_6        hour_7        hour_8        hour_9  \\\n",
              "count  1.458644e+06  1.458644e+06  1.458644e+06  1.458644e+06  1.458644e+06   \n",
              "mean   1.028489e-02  2.279377e-02  3.811759e-02  4.596941e-02  4.638760e-02   \n",
              "std    1.008916e-01  1.492455e-01  1.914802e-01  2.094188e-01  2.103231e-01   \n",
              "min    0.000000e+00  0.000000e+00  0.000000e+00  0.000000e+00  0.000000e+00   \n",
              "25%    0.000000e+00  0.000000e+00  0.000000e+00  0.000000e+00  0.000000e+00   \n",
              "50%    0.000000e+00  0.000000e+00  0.000000e+00  0.000000e+00  0.000000e+00   \n",
              "75%    0.000000e+00  0.000000e+00  0.000000e+00  0.000000e+00  0.000000e+00   \n",
              "max    1.000000e+00  1.000000e+00  1.000000e+00  1.000000e+00  1.000000e+00   \n",
              "\n",
              "             minute  \n",
              "count  1.458644e+06  \n",
              "mean   2.959016e+01  \n",
              "std    1.732471e+01  \n",
              "min    0.000000e+00  \n",
              "25%    1.500000e+01  \n",
              "50%    3.000000e+01  \n",
              "75%    4.500000e+01  \n",
              "max    5.900000e+01  \n",
              "\n",
              "[8 rows x 55 columns]"
            ]
          },
          "execution_count": 65,
          "metadata": {},
          "output_type": "execute_result"
        }
      ],
      "source": [
        "train = result[result.trip_duration.notnull()]\n",
        "train.describe()"
      ]
    },
    {
      "cell_type": "code",
      "execution_count": 66,
      "metadata": {
        "_cell_guid": "be8754e9-5dcf-4683-bfde-c90b2da9d808",
        "_uuid": "2d0a87e4d90ff7f835060c20749e866ed8a5edb5"
      },
      "outputs": [
        {
          "name": "stdout",
          "output_type": "stream",
          "text": [
            "train.shape (1458644, 56) test shape (625134, 56)\n"
          ]
        }
      ],
      "source": [
        "print(\"train.shape\", train.shape, \"test shape\", test.shape)"
      ]
    },
    {
      "cell_type": "code",
      "execution_count": 67,
      "metadata": {
        "_cell_guid": "0a7a07d7-5b2d-475c-b51d-bf8368b53f29",
        "_uuid": "a061265daabcaf2af9b65c43884dd71e7ba4197a",
        "collapsed": true
      },
      "outputs": [],
      "source": [
        "del(result)\n",
        "del(x)"
      ]
    },
    {
      "cell_type": "code",
      "execution_count": 68,
      "metadata": {
        "_cell_guid": "381b324a-a9da-4582-93fd-0402a5a035bc",
        "_uuid": "67f65cbd12420f7033303b8eeee6e4d6721a9568",
        "collapsed": true
      },
      "outputs": [],
      "source": [
        "y = train['trip_duration'].values"
      ]
    },
    {
      "cell_type": "code",
      "execution_count": 69,
      "metadata": {
        "_uuid": "1f66459d52edf127198e219efc42a5c819382d09"
      },
      "outputs": [
        {
          "name": "stderr",
          "output_type": "stream",
          "text": [
            "/opt/conda/lib/python3.6/site-packages/ipykernel_launcher.py:1: SettingWithCopyWarning: \n",
            "A value is trying to be set on a copy of a slice from a DataFrame\n",
            "\n",
            "See the caveats in the documentation: http://pandas.pydata.org/pandas-docs/stable/indexing.html#indexing-view-versus-copy\n",
            "  \"\"\"Entry point for launching an IPython kernel.\n"
          ]
        }
      ],
      "source": [
        "train.drop(['trip_duration', 'id'], axis=1, inplace=True)"
      ]
    },
    {
      "cell_type": "code",
      "execution_count": 70,
      "metadata": {
        "_uuid": "8f4a09db012d09857d65ccbc697868eee4cfb4cb"
      },
      "outputs": [
        {
          "data": {
            "text/html": [
              "<div>\n",
              "<style>\n",
              "    .dataframe thead tr:only-child th {\n",
              "        text-align: right;\n",
              "    }\n",
              "\n",
              "    .dataframe thead th {\n",
              "        text-align: left;\n",
              "    }\n",
              "\n",
              "    .dataframe tbody tr th {\n",
              "        vertical-align: top;\n",
              "    }\n",
              "</style>\n",
              "<table border=\"1\" class=\"dataframe\">\n",
              "  <thead>\n",
              "    <tr style=\"text-align: right;\">\n",
              "      <th></th>\n",
              "      <th>trip_distance</th>\n",
              "      <th>bearing</th>\n",
              "      <th>pass_1.0</th>\n",
              "      <th>pass_2.0</th>\n",
              "      <th>pass_3.0</th>\n",
              "      <th>pass_4.0</th>\n",
              "      <th>pass_5.0</th>\n",
              "      <th>pass_6.0</th>\n",
              "      <th>vendor_1</th>\n",
              "      <th>vendor_2</th>\n",
              "      <th>...</th>\n",
              "      <th>hour_22</th>\n",
              "      <th>hour_23</th>\n",
              "      <th>hour_3</th>\n",
              "      <th>hour_4</th>\n",
              "      <th>hour_5</th>\n",
              "      <th>hour_6</th>\n",
              "      <th>hour_7</th>\n",
              "      <th>hour_8</th>\n",
              "      <th>hour_9</th>\n",
              "      <th>minute</th>\n",
              "    </tr>\n",
              "  </thead>\n",
              "  <tbody>\n",
              "    <tr>\n",
              "      <th>0</th>\n",
              "      <td>0.93</td>\n",
              "      <td>100.0</td>\n",
              "      <td>1</td>\n",
              "      <td>0</td>\n",
              "      <td>0</td>\n",
              "      <td>0</td>\n",
              "      <td>0</td>\n",
              "      <td>0</td>\n",
              "      <td>0</td>\n",
              "      <td>1</td>\n",
              "      <td>...</td>\n",
              "      <td>0</td>\n",
              "      <td>0</td>\n",
              "      <td>0</td>\n",
              "      <td>0</td>\n",
              "      <td>0</td>\n",
              "      <td>0</td>\n",
              "      <td>0</td>\n",
              "      <td>0</td>\n",
              "      <td>0</td>\n",
              "      <td>24</td>\n",
              "    </tr>\n",
              "    <tr>\n",
              "      <th>1</th>\n",
              "      <td>1.12</td>\n",
              "      <td>-117.0</td>\n",
              "      <td>1</td>\n",
              "      <td>0</td>\n",
              "      <td>0</td>\n",
              "      <td>0</td>\n",
              "      <td>0</td>\n",
              "      <td>0</td>\n",
              "      <td>1</td>\n",
              "      <td>0</td>\n",
              "      <td>...</td>\n",
              "      <td>0</td>\n",
              "      <td>0</td>\n",
              "      <td>0</td>\n",
              "      <td>0</td>\n",
              "      <td>0</td>\n",
              "      <td>0</td>\n",
              "      <td>0</td>\n",
              "      <td>0</td>\n",
              "      <td>0</td>\n",
              "      <td>43</td>\n",
              "    </tr>\n",
              "    <tr>\n",
              "      <th>2</th>\n",
              "      <td>3.96</td>\n",
              "      <td>-160.0</td>\n",
              "      <td>1</td>\n",
              "      <td>0</td>\n",
              "      <td>0</td>\n",
              "      <td>0</td>\n",
              "      <td>0</td>\n",
              "      <td>0</td>\n",
              "      <td>0</td>\n",
              "      <td>1</td>\n",
              "      <td>...</td>\n",
              "      <td>0</td>\n",
              "      <td>0</td>\n",
              "      <td>0</td>\n",
              "      <td>0</td>\n",
              "      <td>0</td>\n",
              "      <td>0</td>\n",
              "      <td>0</td>\n",
              "      <td>0</td>\n",
              "      <td>0</td>\n",
              "      <td>35</td>\n",
              "    </tr>\n",
              "    <tr>\n",
              "      <th>3</th>\n",
              "      <td>0.92</td>\n",
              "      <td>-176.0</td>\n",
              "      <td>1</td>\n",
              "      <td>0</td>\n",
              "      <td>0</td>\n",
              "      <td>0</td>\n",
              "      <td>0</td>\n",
              "      <td>0</td>\n",
              "      <td>0</td>\n",
              "      <td>1</td>\n",
              "      <td>...</td>\n",
              "      <td>0</td>\n",
              "      <td>0</td>\n",
              "      <td>0</td>\n",
              "      <td>0</td>\n",
              "      <td>0</td>\n",
              "      <td>0</td>\n",
              "      <td>0</td>\n",
              "      <td>0</td>\n",
              "      <td>0</td>\n",
              "      <td>32</td>\n",
              "    </tr>\n",
              "    <tr>\n",
              "      <th>4</th>\n",
              "      <td>0.74</td>\n",
              "      <td>179.0</td>\n",
              "      <td>1</td>\n",
              "      <td>0</td>\n",
              "      <td>0</td>\n",
              "      <td>0</td>\n",
              "      <td>0</td>\n",
              "      <td>0</td>\n",
              "      <td>0</td>\n",
              "      <td>1</td>\n",
              "      <td>...</td>\n",
              "      <td>0</td>\n",
              "      <td>0</td>\n",
              "      <td>0</td>\n",
              "      <td>0</td>\n",
              "      <td>0</td>\n",
              "      <td>0</td>\n",
              "      <td>0</td>\n",
              "      <td>0</td>\n",
              "      <td>0</td>\n",
              "      <td>30</td>\n",
              "    </tr>\n",
              "  </tbody>\n",
              "</table>\n",
              "<p>5 rows × 54 columns</p>\n",
              "</div>"
            ],
            "text/plain": [
              "   trip_distance  bearing  pass_1.0  pass_2.0  pass_3.0  pass_4.0  pass_5.0  \\\n",
              "0           0.93    100.0         1         0         0         0         0   \n",
              "1           1.12   -117.0         1         0         0         0         0   \n",
              "2           3.96   -160.0         1         0         0         0         0   \n",
              "3           0.92   -176.0         1         0         0         0         0   \n",
              "4           0.74    179.0         1         0         0         0         0   \n",
              "\n",
              "   pass_6.0  vendor_1  vendor_2   ...    hour_22  hour_23  hour_3  hour_4  \\\n",
              "0         0         0         1   ...          0        0       0       0   \n",
              "1         0         1         0   ...          0        0       0       0   \n",
              "2         0         0         1   ...          0        0       0       0   \n",
              "3         0         0         1   ...          0        0       0       0   \n",
              "4         0         0         1   ...          0        0       0       0   \n",
              "\n",
              "   hour_5  hour_6  hour_7  hour_8  hour_9  minute  \n",
              "0       0       0       0       0       0      24  \n",
              "1       0       0       0       0       0      43  \n",
              "2       0       0       0       0       0      35  \n",
              "3       0       0       0       0       0      32  \n",
              "4       0       0       0       0       0      30  \n",
              "\n",
              "[5 rows x 54 columns]"
            ]
          },
          "execution_count": 70,
          "metadata": {},
          "output_type": "execute_result"
        }
      ],
      "source": [
        "train.head()"
      ]
    },
    {
      "cell_type": "code",
      "execution_count": 71,
      "metadata": {
        "collapsed": true,
        "_uuid": "a57c630c75846a51e97a708e4a1479935ca7bbec"
      },
      "outputs": [],
      "source": [
        "X = train.values"
      ]
    },
    {
      "cell_type": "code",
      "execution_count": 72,
      "metadata": {
        "_cell_guid": "e83a7f27-5f06-4bc4-8ab8-0edebe7281d7",
        "_uuid": "c290f55ca583ed277f005521cda8050fad54423d",
        "collapsed": true
      },
      "outputs": [],
      "source": [
        "X_train, X_test, y_train, y_test = train_test_split(X, y, random_state=0)"
      ]
    },
    {
      "cell_type": "code",
      "execution_count": 73,
      "metadata": {
        "_cell_guid": "43dca622-a9c7-4847-be98-704a134d08eb",
        "_uuid": "2b1d52febf0e7bf9993c68d90294534ccdb67d32"
      },
      "outputs": [
        {
          "name": "stdout",
          "output_type": "stream",
          "text": [
            "Shape X_train: (1093983, 54). Shape y_train: (1093983,). \n",
            "Shape X_test : (364661, 54). Shape y_test : (364661,)\n"
          ]
        }
      ],
      "source": [
        "print(\"Shape X_train: {}. Shape y_train: {}. \\nShape X_test : {}. Shape y_test : {}\". \\\n",
        "     format(X_train.shape, y_train.shape, X_test.shape, y_test.shape))"
      ]
    },
    {
      "cell_type": "code",
      "execution_count": 74,
      "metadata": {
        "_cell_guid": "45d60a05-59b7-438e-993c-d1379752a1f0",
        "_uuid": "860e01bcaab7c883ce492979fd01e9fb07820192",
        "collapsed": true
      },
      "outputs": [],
      "source": [
        "scaler = MinMaxScaler().fit(X_train)"
      ]
    },
    {
      "cell_type": "code",
      "execution_count": 75,
      "metadata": {
        "_cell_guid": "80ded1dd-81bd-446b-a51a-32a0716a0c94",
        "_uuid": "8fa373b1c2274e4900fbab89e2df5f04d277086f",
        "collapsed": true
      },
      "outputs": [],
      "source": [
        "X_train_scaled = scaler.transform(X_train)"
      ]
    },
    {
      "cell_type": "code",
      "execution_count": 76,
      "metadata": {
        "_cell_guid": "b172a8d1-6278-4552-8ccd-481d7149b3bb",
        "_uuid": "2449b808c5dbefe7015a5ec08921b8ba72cfcfb7"
      },
      "outputs": [
        {
          "name": "stdout",
          "output_type": "stream",
          "text": [
            "X_train[:3]:\n",
            "[[   1.34 -168.      0.      0.      0.      0.      1.      0.      0.\n",
            "     1.      1.      0.      1.      0.      0.      0.      0.      0.\n",
            "     0.      0.      2.     29.      0.      0.      0.      0.      0.\n",
            "     0.      1.      0.      0.      0.      0.      0.      0.      0.\n",
            "     0.      0.      0.      1.      0.      0.      0.      0.      0.\n",
            "     0.      0.      0.      0.      0.      0.      0.      0.     56.  ]\n",
            " [   0.51  -12.      1.      0.      0.      0.      0.      0.      0.\n",
            "     1.      1.      0.      1.      0.      0.      0.      0.      0.\n",
            "     0.      0.      2.     29.      0.      0.      1.      0.      0.\n",
            "     0.      0.      0.      0.      0.      0.      0.      0.      0.\n",
            "     0.      0.      1.      0.      0.      0.      0.      0.      0.\n",
            "     0.      0.      0.      0.      0.      0.      0.      0.      6.  ]\n",
            " [   1.59   62.      0.      0.      0.      0.      1.      0.      0.\n",
            "     1.      1.      0.      0.      0.      1.      0.      0.      0.\n",
            "     0.      0.      5.     31.      0.      0.      0.      1.      0.\n",
            "     0.      0.      0.      0.      0.      0.      0.      0.      0.\n",
            "     0.      0.      0.      0.      0.      1.      0.      0.      0.\n",
            "     0.      0.      0.      0.      0.      0.      0.      0.     38.  ]],\n",
            "X_train_scaled[:3]\n",
            "[[ 0.08311688  0.03333333  0.          0.          0.          0.          1.\n",
            "   0.          0.          1.          1.          0.          1.          0.\n",
            "   0.          0.          0.          0.          0.          0.          0.2\n",
            "   0.          0.          0.          0.          0.          0.          0.\n",
            "   1.          0.          0.          0.          0.          0.          0.\n",
            "   0.          0.          0.          0.          1.          0.          0.\n",
            "   0.          0.          0.          0.          0.          0.          0.\n",
            "   0.          0.          0.          0.          0.94915254]\n",
            " [ 0.01125541  0.46666667  1.          0.          0.          0.          0.\n",
            "   0.          0.          1.          1.          0.          1.          0.\n",
            "   0.          0.          0.          0.          0.          0.          0.2\n",
            "   0.          0.          0.          1.          0.          0.          0.\n",
            "   0.          0.          0.          0.          0.          0.          0.\n",
            "   0.          0.          0.          1.          0.          0.          0.\n",
            "   0.          0.          0.          0.          0.          0.          0.\n",
            "   0.          0.          0.          0.          0.10169492]\n",
            " [ 0.1047619   0.67222222  0.          0.          0.          0.          1.\n",
            "   0.          0.          1.          1.          0.          0.          0.\n",
            "   1.          0.          0.          0.          0.          0.          0.8\n",
            "   1.          0.          0.          0.          1.          0.          0.\n",
            "   0.          0.          0.          0.          0.          0.          0.\n",
            "   0.          0.          0.          0.          0.          0.          1.\n",
            "   0.          0.          0.          0.          0.          0.          0.\n",
            "   0.          0.          0.          0.          0.6440678 ]]\n"
          ]
        }
      ],
      "source": [
        "print(\"X_train[:3]:\\n{},\\nX_train_scaled[:3]\\n{}\".    \\\n",
        "      format(X_train[:3], X_train_scaled[:3]))"
      ]
    },
    {
      "cell_type": "code",
      "execution_count": 77,
      "metadata": {
        "_cell_guid": "5669f8be-95c7-4ebf-8cd8-0dd0543a6b0c",
        "_uuid": "49a567987a79a48c1a52fd7ac2ac6f9adce0761c",
        "collapsed": true
      },
      "outputs": [],
      "source": [
        "lr = LinearRegression()"
      ]
    },
    {
      "cell_type": "code",
      "execution_count": 78,
      "metadata": {
        "_cell_guid": "f4540323-3870-412d-8ed2-7b69c33db7cf",
        "_uuid": "6c47e81bd5be86a511df2ce959f349174b227cdc"
      },
      "outputs": [
        {
          "name": "stdout",
          "output_type": "stream",
          "text": [
            "lr.coef_: [  2.81219074e+03  -2.66744412e+00  -3.67770745e+14  -3.67770745e+14\n",
            "  -3.67770745e+14  -3.67770745e+14  -3.67770745e+14  -3.67770745e+14\n",
            "  -2.98920531e+14  -2.98920531e+14  -4.93190725e+14  -4.93190725e+14\n",
            "  -3.14791371e+14  -3.14791371e+14  -3.14791371e+14  -3.14791371e+14\n",
            "  -3.14791371e+14  -3.14791371e+14  -3.14791371e+14  -3.14791371e+14\n",
            "   6.75937500e+01   8.75000000e-01   5.57566264e+14   5.57566264e+14\n",
            "   5.57566264e+14   5.57566264e+14   5.57566264e+14   5.57566264e+14\n",
            "   5.57566264e+14   5.00028301e+13   5.00028301e+13   5.00028301e+13\n",
            "   5.00028301e+13   5.00028301e+13   5.00028301e+13   5.00028301e+13\n",
            "   5.00028301e+13   5.00028301e+13   5.00028301e+13   5.00028301e+13\n",
            "   5.00028301e+13   5.00028301e+13   5.00028301e+13   5.00028301e+13\n",
            "   5.00028301e+13   5.00028301e+13   5.00028301e+13   5.00028301e+13\n",
            "   5.00028301e+13   5.00028301e+13   5.00028301e+13   5.00028301e+13\n",
            "   5.00028301e+13  -7.01562500e+00]\n",
            "lr.intercept_: 867104277526854.1\n",
            "\n",
            "Accuracy by train-scaled set: 0.646\n"
          ]
        }
      ],
      "source": [
        "lr.fit(X_train_scaled, y_train)\n",
        "print(\"lr.coef_: {}\".format(lr.coef_))\n",
        "print(\"lr.intercept_: {}\".format(lr.intercept_))\n",
        "print(\"\\nAccuracy by train-scaled set: {:.3f}\".   \\\n",
        "      format(lr.score(X_train_scaled, y_train)))"
      ]
    },
    {
      "cell_type": "code",
      "execution_count": 79,
      "metadata": {
        "_cell_guid": "18f5b80d-b541-4990-8392-a1481f2f662d",
        "_uuid": "fda33cc30260ccde70283847ad9e448d1abaa9b3"
      },
      "outputs": [
        {
          "name": "stdout",
          "output_type": "stream",
          "text": [
            "\n",
            "Accuracy by test set: 0.646\n"
          ]
        }
      ],
      "source": [
        "X_test_scaled = scaler.transform(X_test)\n",
        "print(\"\\nAccuracy by test set: {:.3f}\".   \\\n",
        "      format(lr.score(X_test_scaled, y_test)))"
      ]
    },
    {
      "cell_type": "code",
      "execution_count": 80,
      "metadata": {
        "_cell_guid": "03f5bc5c-ae51-4b32-9fb9-2ecf382ffcc7",
        "_uuid": "b10c9ed7a3ac6954e920de3a8997779148b09010"
      },
      "outputs": [
        {
          "name": "stdout",
          "output_type": "stream",
          "text": [
            "\n",
            "Accuracy by train-scaled set: 0.646\n",
            "\n",
            "Accuracy by test set: 0.646\n"
          ]
        }
      ],
      "source": [
        "ridge = Ridge()\n",
        "ridge.fit(X_train_scaled, y_train)\n",
        "print(\"\\nAccuracy by train-scaled set: {:.3f}\".\\\n",
        "      format(ridge.score(X_train_scaled, y_train)))\n",
        "\n",
        "print(\"\\nAccuracy by test set: {:.3f}\".\\\n",
        "      format(ridge.score(X_test_scaled, y_test)))"
      ]
    },
    {
      "cell_type": "code",
      "execution_count": 81,
      "metadata": {
        "_cell_guid": "fcd16da3-872c-4bab-946e-4cecb978e4c7",
        "_uuid": "a6ae78012ad20803b105af5e37687425d85ba68e"
      },
      "outputs": [
        {
          "name": "stdout",
          "output_type": "stream",
          "text": [
            "\n",
            "Accuracy by train-scaled set: 0.646\n",
            "\n",
            "Accuracy by test set: 0.646\n"
          ]
        }
      ],
      "source": [
        "ridge10 = Ridge(alpha=10).fit(X_train_scaled, y_train)\n",
        "print(\"\\nAccuracy by train-scaled set: {:.3f}\".\\\n",
        "      format(ridge10.score(X_train_scaled, y_train)))\n",
        "\n",
        "print(\"\\nAccuracy by test set: {:.3f}\".\\\n",
        "      format(ridge10.score(X_test_scaled, y_test)))"
      ]
    },
    {
      "cell_type": "code",
      "execution_count": 82,
      "metadata": {
        "_cell_guid": "8b115749-802d-4458-ae60-add72ac37ffe",
        "_uuid": "d42d46dd8cf55d13a86a52d910dcdb43ede03885"
      },
      "outputs": [
        {
          "name": "stdout",
          "output_type": "stream",
          "text": [
            "\n",
            "Accuracy by train-scaled set: 0.646\n",
            "\n",
            "Accuracy by test set: 0.646\n"
          ]
        }
      ],
      "source": [
        "ridge01 = Ridge(alpha=0.1).fit(X_train_scaled, y_train)\n",
        "print(\"\\nAccuracy by train-scaled set: {:.3f}\".\\\n",
        "      format(ridge01.score(X_train_scaled, y_train)))\n",
        "\n",
        "print(\"\\nAccuracy by test set: {:.3f}\".\\\n",
        "      format(ridge01.score(X_test_scaled, y_test)))"
      ]
    },
    {
      "cell_type": "code",
      "execution_count": 83,
      "metadata": {
        "_cell_guid": "1d4943cd-377c-4ba2-9e11-981534cb7d9e",
        "_uuid": "2c2605833fda3a68a4f91b39b5bb86e7fb52f43c"
      },
      "outputs": [
        {
          "data": {
            "text/plain": [
              "<matplotlib.legend.Legend at 0x7f73d77a2fd0>"
            ]
          },
          "execution_count": 83,
          "metadata": {},
          "output_type": "execute_result"
        },
        {
          "data": {
            "image/png": "[encoded data removed]",
            "text/plain": [
              "<matplotlib.figure.Figure at 0x7f73aeeefc88>"
            ]
          },
          "metadata": {},
          "output_type": "display_data"
        }
      ],
      "source": [
        "plt.plot(ridge.coef_, 's', label=\"Ridge alpha=1\")\n",
        "plt.plot(ridge10.coef_, '^', label=\"Ridge alpha=10\")\n",
        "plt.plot(ridge01.coef_, 'v', label=\"Ridge alpha=0.1\")\n",
        "\n",
        "plt.plot(lr.coef_, 'o', label=\"LinearRegression\")\n",
        "plt.xlabel(\"Coefficient index\")\n",
        "plt.ylabel(\"Coefficient magnitude\")\n",
        "xlims = plt.xlim()\n",
        "plt.hlines(0, xlims[0], xlims[1])\n",
        "plt.xlim(xlims)\n",
        "plt.ylim(-25, 25)\n",
        "plt.legend()"
      ]
    },
    {
      "cell_type": "markdown",
      "metadata": {
        "_cell_guid": "fede5f8e-4f8c-4609-ab89-f29426c55a01",
        "_uuid": "f676f07e2a5292ca482e4e625310d107a2435145",
        "collapsed": true
      },
      "source": [
        "We can see that the more general picture of accuracy by linear regression, it is smooth and total."
      ]
    },
    {
      "cell_type": "code",
      "execution_count": 84,
      "metadata": {
        "_cell_guid": "64ea89fe-cbf6-4ca0-8024-521ea3c63cc7",
        "_uuid": "beb4347356722055601a366b1a72511a431af743",
        "collapsed": true
      },
      "outputs": [],
      "source": [
        "tree = DecisionTreeClassifier(max_depth=4)"
      ]
    },
    {
      "cell_type": "code",
      "execution_count": 85,
      "metadata": {
        "_cell_guid": "bffec980-2b5e-4498-ad15-ad3fc57a164a",
        "_uuid": "05ed47a60a0b75ddb4de6cd32575f836f9ac3a46"
      },
      "outputs": [
        {
          "name": "stdout",
          "output_type": "stream",
          "text": [
            "\n",
            "The importances of features:\n",
            " [ 0.94999049  0.02403285  0.          0.          0.          0.          0.\n",
            "  0.          0.          0.          0.          0.          0.          0.\n",
            "  0.          0.          0.          0.02046627  0.          0.          0.\n",
            "  0.          0.          0.          0.          0.          0.          0.\n",
            "  0.          0.00551039  0.          0.          0.          0.          0.\n",
            "  0.          0.          0.          0.          0.          0.          0.\n",
            "  0.          0.          0.          0.          0.          0.          0.\n",
            "  0.          0.          0.          0.          0.        ]\n"
          ]
        }
      ],
      "source": [
        "tree.fit(X_train_scaled, y_train)\n",
        "print(\"\\nThe importances of features:\\n {}\".format(tree.feature_importances_))"
      ]
    },
    {
      "cell_type": "code",
      "execution_count": 86,
      "metadata": {
        "_cell_guid": "2d29c02b-1b1d-4277-8a4c-d886e77e05cb",
        "_uuid": "c55dd0eb8027b8f00de195fa105a977fd55544c8"
      },
      "outputs": [
        {
          "name": "stdout",
          "output_type": "stream",
          "text": [
            "trip_distance ............. 0.949990489527\n",
            "bearing ............. 0.0240328471525\n",
            "pass_1.0 ............. 0.0\n",
            "pass_2.0 ............. 0.0\n",
            "pass_3.0 ............. 0.0\n",
            "pass_4.0 ............. 0.0\n",
            "pass_5.0 ............. 0.0\n",
            "pass_6.0 ............. 0.0\n",
            "vendor_1 ............. 0.0\n",
            "vendor_2 ............. 0.0\n",
            "flag_N ............. 0.0\n",
            "flag_Y ............. 0.0\n",
            "pickup_0 ............. 0.0\n",
            "pickup_1 ............. 0.0\n",
            "pickup_2 ............. 0.0\n",
            "pickup_3 ............. 0.0\n",
            "pickup_4 ............. 0.0\n",
            "pickup_5 ............. 0.0204662703542\n",
            "pickup_6 ............. 0.0\n",
            "pickup_7 ............. 0.0\n",
            "month ............. 0.0\n",
            "days_in_month ............. 0.0\n",
            "weekday_Friday ............. 0.0\n",
            "weekday_Monday ............. 0.0\n",
            "weekday_Saturday ............. 0.0\n",
            "weekday_Sunday ............. 0.0\n",
            "weekday_Thursday ............. 0.0\n",
            "weekday_Tuesday ............. 0.0\n",
            "weekday_Wednesday ............. 0.0\n",
            "hour_0 ............. 0.00551039296622\n",
            "hour_1 ............. 0.0\n",
            "hour_10 ............. 0.0\n",
            "hour_11 ............. 0.0\n",
            "hour_12 ............. 0.0\n",
            "hour_13 ............. 0.0\n",
            "hour_14 ............. 0.0\n",
            "hour_15 ............. 0.0\n",
            "hour_16 ............. 0.0\n",
            "hour_17 ............. 0.0\n",
            "hour_18 ............. 0.0\n",
            "hour_19 ............. 0.0\n",
            "hour_2 ............. 0.0\n",
            "hour_20 ............. 0.0\n",
            "hour_21 ............. 0.0\n",
            "hour_22 ............. 0.0\n",
            "hour_23 ............. 0.0\n",
            "hour_3 ............. 0.0\n",
            "hour_4 ............. 0.0\n",
            "hour_5 ............. 0.0\n",
            "hour_6 ............. 0.0\n",
            "hour_7 ............. 0.0\n",
            "hour_8 ............. 0.0\n",
            "hour_9 ............. 0.0\n",
            "minute ............. 0.0\n"
          ]
        }
      ],
      "source": [
        "for name_, score in zip(train.columns, tree.feature_importances_):\n",
        "    print(name_, '.............', score)"
      ]
    },
    {
      "cell_type": "code",
      "execution_count": 87,
      "metadata": {
        "_cell_guid": "a75b9e8a-107e-44ec-a16d-e16c7b78bb0f",
        "_uuid": "e6cf2951be41b5310e47cf2a3fbed249552241db",
        "collapsed": true
      },
      "outputs": [],
      "source": [
        "X_train = X\n",
        "y_train = y"
      ]
    },
    {
      "cell_type": "code",
      "execution_count": 88,
      "metadata": {
        "_cell_guid": "f635e814-31cf-49e8-865c-b843bd524af1",
        "_uuid": "e7690dc04fb8991664b54866efc73f52ca8c4328",
        "collapsed": true
      },
      "outputs": [],
      "source": [
        "scaler = MinMaxScaler().fit(X_train)"
      ]
    },
    {
      "cell_type": "code",
      "execution_count": 89,
      "metadata": {
        "_cell_guid": "076652e3-9ae2-493c-a0ea-5b94bf738d64",
        "_uuid": "f6df62bac3c9f2b846186bbec0bad5c185badfea",
        "collapsed": true
      },
      "outputs": [],
      "source": [
        "X_train_scaled = scaler.transform(X_train)"
      ]
    },
    {
      "cell_type": "code",
      "execution_count": 90,
      "metadata": {
        "_cell_guid": "8c545ee8-6382-489d-b792-a55fa5ae5966",
        "_uuid": "1439ec2ae0d181b3c5599cb8fb223377999382cf"
      },
      "outputs": [
        {
          "name": "stdout",
          "output_type": "stream",
          "text": [
            "lr.coef_: [  2.81326926e+03  -3.56119762e+00   6.31351699e+13   6.31351699e+13\n",
            "   6.31351699e+13   6.31351699e+13   6.31351699e+13   6.31351699e+13\n",
            "   3.91377582e+13   3.91377582e+13  -4.25558143e+13  -4.25558143e+13\n",
            "  -4.86992694e+13  -4.86992694e+13  -4.86992694e+13  -4.86992694e+13\n",
            "  -4.86992694e+13  -4.86992694e+13  -4.86992694e+13  -4.86992694e+13\n",
            "   6.68828125e+01   1.21289062e+00  -3.06240994e+13  -3.06240994e+13\n",
            "  -3.06240994e+13  -3.06240994e+13  -3.06240994e+13  -3.06240994e+13\n",
            "  -3.06240994e+13   1.11448661e+13   1.11448661e+13   1.11448661e+13\n",
            "   1.11448661e+13   1.11448661e+13   1.11448661e+13   1.11448661e+13\n",
            "   1.11448661e+13   1.11448661e+13   1.11448661e+13   1.11448661e+13\n",
            "   1.11448661e+13   1.11448661e+13   1.11448661e+13   1.11448661e+13\n",
            "   1.11448661e+13   1.11448661e+13   1.11448661e+13   1.11448661e+13\n",
            "   1.11448661e+13   1.11448661e+13   1.11448661e+13   1.11448661e+13\n",
            "   1.11448661e+13  -7.47656250e+00]\n",
            "lr.intercept_: 8461388950158.762\n",
            "\n",
            "Accuracy by train-scaled set: 0.646\n"
          ]
        }
      ],
      "source": [
        "lr.fit(X_train_scaled, y_train)\n",
        "print(\"lr.coef_: {}\".format(lr.coef_))\n",
        "print(\"lr.intercept_: {}\".format(lr.intercept_))\n",
        "print(\"\\nAccuracy by train-scaled set: {:.3f}\".   \\\n",
        "      format(lr.score(X_train_scaled, y_train)))"
      ]
    },
    {
      "cell_type": "code",
      "execution_count": 91,
      "metadata": {
        "_cell_guid": "239fa484-5d95-4662-ba50-16b014bdbc89",
        "_uuid": "490954f08cb86fdb7cb571952d83f6560c342ac6",
        "collapsed": true
      },
      "outputs": [],
      "source": [
        "X_test = test.drop(['trip_duration', 'id'], axis=1).values"
      ]
    },
    {
      "cell_type": "code",
      "execution_count": 92,
      "metadata": {
        "_cell_guid": "7c6ead59-512e-40cf-a694-daf45466b9f9",
        "_uuid": "6a4d706ee536712b02bc809f8dae997dc7982c8b"
      },
      "outputs": [
        {
          "name": "stdout",
          "output_type": "stream",
          "text": [
            "(625134, 54)\n"
          ]
        }
      ],
      "source": [
        "print(X_test.shape)"
      ]
    },
    {
      "cell_type": "code",
      "execution_count": 93,
      "metadata": {
        "_cell_guid": "dca8e331-9980-419d-832c-8cd233ab6fc8",
        "_uuid": "b0fcc26d919462997ac035cef9d02474bb92a6d7",
        "collapsed": true
      },
      "outputs": [],
      "source": [
        "X_test_scaled = scaler.transform(X_test)"
      ]
    },
    {
      "cell_type": "code",
      "execution_count": 94,
      "metadata": {
        "_cell_guid": "3d591273-708d-4574-9e3f-140b0c20075d",
        "_uuid": "fe6a64dafc8d0f234407dd79a4a72c918053c313",
        "collapsed": true
      },
      "outputs": [],
      "source": [
        "y_pred = lr.predict(X_test_scaled)"
      ]
    },
    {
      "cell_type": "code",
      "execution_count": 95,
      "metadata": {
        "_cell_guid": "f71e4fc2-8757-4fef-981f-7fa6d807a10e",
        "_uuid": "3d87d6cc6392f544a5074428ab8c938da4ed5fc8"
      },
      "outputs": [
        {
          "name": "stdout",
          "output_type": "stream",
          "text": [
            "[  762.29296875   452.58203125   541.70703125 ...,  1503.38085938\n",
            "  2114.7421875   1183.921875  ]\n"
          ]
        }
      ],
      "source": [
        "print(y_pred)"
      ]
    },
    {
      "cell_type": "code",
      "execution_count": 96,
      "metadata": {
        "_cell_guid": "a194adc4-6d6c-4a7d-a629-2db96939782e",
        "_uuid": "c36869d6ec88e57328dcfea842ed2c6e73bf7c7f",
        "collapsed": true
      },
      "outputs": [],
      "source": [
        "submission = pd.read_csv('../input/sample_submission.csv', index_col=0, header=0)"
      ]
    },
    {
      "cell_type": "code",
      "execution_count": 97,
      "metadata": {
        "_cell_guid": "343d4f44-4f81-4ecf-9eb6-ab1799847bfc",
        "_uuid": "6398a84dd7f6590e05e543f77c449a8b3746775e"
      },
      "outputs": [
        {
          "data": {
            "text/html": [
              "<div>\n",
              "<style>\n",
              "    .dataframe thead tr:only-child th {\n",
              "        text-align: right;\n",
              "    }\n",
              "\n",
              "    .dataframe thead th {\n",
              "        text-align: left;\n",
              "    }\n",
              "\n",
              "    .dataframe tbody tr th {\n",
              "        vertical-align: top;\n",
              "    }\n",
              "</style>\n",
              "<table border=\"1\" class=\"dataframe\">\n",
              "  <thead>\n",
              "    <tr style=\"text-align: right;\">\n",
              "      <th></th>\n",
              "      <th>trip_duration</th>\n",
              "    </tr>\n",
              "    <tr>\n",
              "      <th>id</th>\n",
              "      <th></th>\n",
              "    </tr>\n",
              "  </thead>\n",
              "  <tbody>\n",
              "    <tr>\n",
              "      <th>id3004672</th>\n",
              "      <td>959</td>\n",
              "    </tr>\n",
              "    <tr>\n",
              "      <th>id3505355</th>\n",
              "      <td>959</td>\n",
              "    </tr>\n",
              "    <tr>\n",
              "      <th>id1217141</th>\n",
              "      <td>959</td>\n",
              "    </tr>\n",
              "    <tr>\n",
              "      <th>id2150126</th>\n",
              "      <td>959</td>\n",
              "    </tr>\n",
              "    <tr>\n",
              "      <th>id1598245</th>\n",
              "      <td>959</td>\n",
              "    </tr>\n",
              "  </tbody>\n",
              "</table>\n",
              "</div>"
            ],
            "text/plain": [
              "           trip_duration\n",
              "id                      \n",
              "id3004672            959\n",
              "id3505355            959\n",
              "id1217141            959\n",
              "id2150126            959\n",
              "id1598245            959"
            ]
          },
          "execution_count": 97,
          "metadata": {},
          "output_type": "execute_result"
        }
      ],
      "source": [
        "submission.head()"
      ]
    },
    {
      "cell_type": "code",
      "execution_count": 98,
      "metadata": {
        "_cell_guid": "09cca1ef-05ed-40dc-8458-689a7c09ac68",
        "_uuid": "47bcca7c72fd6dd12de43cb6c8e06a5bf88ac01f"
      },
      "outputs": [
        {
          "data": {
            "text/plain": [
              "(625134, 1)"
            ]
          },
          "execution_count": 98,
          "metadata": {},
          "output_type": "execute_result"
        }
      ],
      "source": [
        "submission.shape"
      ]
    },
    {
      "cell_type": "code",
      "execution_count": 99,
      "metadata": {
        "_cell_guid": "5ba04ee8-b17f-4b96-a767-a993e26ba552",
        "_uuid": "7093a653bcde82b4672a2460dd63253207d7900a"
      },
      "outputs": [
        {
          "data": {
            "text/plain": [
              "(625134,)"
            ]
          },
          "execution_count": 99,
          "metadata": {},
          "output_type": "execute_result"
        }
      ],
      "source": [
        "y_pred.shape"
      ]
    },
    {
      "cell_type": "code",
      "execution_count": 100,
      "metadata": {
        "_cell_guid": "2b4b4aac-cff5-4f58-9cae-037689052b3b",
        "_uuid": "44fd604038e29c6c57fa69f1d4891a9e695f4db0"
      },
      "outputs": [
        {
          "data": {
            "text/html": [
              "<div>\n",
              "<style>\n",
              "    .dataframe thead tr:only-child th {\n",
              "        text-align: right;\n",
              "    }\n",
              "\n",
              "    .dataframe thead th {\n",
              "        text-align: left;\n",
              "    }\n",
              "\n",
              "    .dataframe tbody tr th {\n",
              "        vertical-align: top;\n",
              "    }\n",
              "</style>\n",
              "<table border=\"1\" class=\"dataframe\">\n",
              "  <thead>\n",
              "    <tr style=\"text-align: right;\">\n",
              "      <th></th>\n",
              "      <th>trip_duration</th>\n",
              "    </tr>\n",
              "    <tr>\n",
              "      <th>id</th>\n",
              "      <th></th>\n",
              "    </tr>\n",
              "  </thead>\n",
              "  <tbody>\n",
              "    <tr>\n",
              "      <th>id3004672</th>\n",
              "      <td>762.292969</td>\n",
              "    </tr>\n",
              "    <tr>\n",
              "      <th>id3505355</th>\n",
              "      <td>452.582031</td>\n",
              "    </tr>\n",
              "    <tr>\n",
              "      <th>id1217141</th>\n",
              "      <td>541.707031</td>\n",
              "    </tr>\n",
              "    <tr>\n",
              "      <th>id2150126</th>\n",
              "      <td>1083.207031</td>\n",
              "    </tr>\n",
              "    <tr>\n",
              "      <th>id1598245</th>\n",
              "      <td>427.160156</td>\n",
              "    </tr>\n",
              "    <tr>\n",
              "      <th>id0668992</th>\n",
              "      <td>978.910156</td>\n",
              "    </tr>\n",
              "    <tr>\n",
              "      <th>id1765014</th>\n",
              "      <td>875.339844</td>\n",
              "    </tr>\n",
              "    <tr>\n",
              "      <th>id0898117</th>\n",
              "      <td>792.277344</td>\n",
              "    </tr>\n",
              "    <tr>\n",
              "      <th>id3905224</th>\n",
              "      <td>2366.333984</td>\n",
              "    </tr>\n",
              "    <tr>\n",
              "      <th>id1543102</th>\n",
              "      <td>623.630859</td>\n",
              "    </tr>\n",
              "    <tr>\n",
              "      <th>id3024712</th>\n",
              "      <td>481.740234</td>\n",
              "    </tr>\n",
              "    <tr>\n",
              "      <th>id3665810</th>\n",
              "      <td>459.818359</td>\n",
              "    </tr>\n",
              "    <tr>\n",
              "      <th>id1836461</th>\n",
              "      <td>514.427734</td>\n",
              "    </tr>\n",
              "    <tr>\n",
              "      <th>id3457080</th>\n",
              "      <td>743.296875</td>\n",
              "    </tr>\n",
              "    <tr>\n",
              "      <th>id3376065</th>\n",
              "      <td>1166.390625</td>\n",
              "    </tr>\n",
              "    <tr>\n",
              "      <th>id3008739</th>\n",
              "      <td>1008.054688</td>\n",
              "    </tr>\n",
              "    <tr>\n",
              "      <th>id0902216</th>\n",
              "      <td>891.563477</td>\n",
              "    </tr>\n",
              "    <tr>\n",
              "      <th>id3564824</th>\n",
              "      <td>624.791992</td>\n",
              "    </tr>\n",
              "    <tr>\n",
              "      <th>id0820280</th>\n",
              "      <td>390.182617</td>\n",
              "    </tr>\n",
              "    <tr>\n",
              "      <th>id0775088</th>\n",
              "      <td>908.471680</td>\n",
              "    </tr>\n",
              "  </tbody>\n",
              "</table>\n",
              "</div>"
            ],
            "text/plain": [
              "           trip_duration\n",
              "id                      \n",
              "id3004672     762.292969\n",
              "id3505355     452.582031\n",
              "id1217141     541.707031\n",
              "id2150126    1083.207031\n",
              "id1598245     427.160156\n",
              "id0668992     978.910156\n",
              "id1765014     875.339844\n",
              "id0898117     792.277344\n",
              "id3905224    2366.333984\n",
              "id1543102     623.630859\n",
              "id3024712     481.740234\n",
              "id3665810     459.818359\n",
              "id1836461     514.427734\n",
              "id3457080     743.296875\n",
              "id3376065    1166.390625\n",
              "id3008739    1008.054688\n",
              "id0902216     891.563477\n",
              "id3564824     624.791992\n",
              "id0820280     390.182617\n",
              "id0775088     908.471680"
            ]
          },
          "execution_count": 100,
          "metadata": {},
          "output_type": "execute_result"
        }
      ],
      "source": [
        "submission.trip_duration = y_pred\n",
        "submission.head(20)"
      ]
    },
    {
      "cell_type": "code",
      "execution_count": 101,
      "metadata": {
        "_cell_guid": "d34ce72c-d6b5-4432-bc1d-9f192661ca48",
        "_uuid": "0076f3a60eaead8b21e5e7065572353fee3cf3db"
      },
      "outputs": [
        {
          "data": {
            "text/html": [
              "<div>\n",
              "<style>\n",
              "    .dataframe thead tr:only-child th {\n",
              "        text-align: right;\n",
              "    }\n",
              "\n",
              "    .dataframe thead th {\n",
              "        text-align: left;\n",
              "    }\n",
              "\n",
              "    .dataframe tbody tr th {\n",
              "        vertical-align: top;\n",
              "    }\n",
              "</style>\n",
              "<table border=\"1\" class=\"dataframe\">\n",
              "  <thead>\n",
              "    <tr style=\"text-align: right;\">\n",
              "      <th></th>\n",
              "      <th>trip_duration</th>\n",
              "    </tr>\n",
              "  </thead>\n",
              "  <tbody>\n",
              "    <tr>\n",
              "      <th>count</th>\n",
              "      <td>625134.000000</td>\n",
              "    </tr>\n",
              "    <tr>\n",
              "      <th>mean</th>\n",
              "      <td>804.146612</td>\n",
              "    </tr>\n",
              "    <tr>\n",
              "      <th>std</th>\n",
              "      <td>422.418026</td>\n",
              "    </tr>\n",
              "    <tr>\n",
              "      <th>min</th>\n",
              "      <td>-127.398438</td>\n",
              "    </tr>\n",
              "    <tr>\n",
              "      <th>25%</th>\n",
              "      <td>542.865723</td>\n",
              "    </tr>\n",
              "    <tr>\n",
              "      <th>50%</th>\n",
              "      <td>679.113770</td>\n",
              "    </tr>\n",
              "    <tr>\n",
              "      <th>75%</th>\n",
              "      <td>921.513428</td>\n",
              "    </tr>\n",
              "    <tr>\n",
              "      <th>max</th>\n",
              "      <td>3296.755859</td>\n",
              "    </tr>\n",
              "  </tbody>\n",
              "</table>\n",
              "</div>"
            ],
            "text/plain": [
              "       trip_duration\n",
              "count  625134.000000\n",
              "mean      804.146612\n",
              "std       422.418026\n",
              "min      -127.398438\n",
              "25%       542.865723\n",
              "50%       679.113770\n",
              "75%       921.513428\n",
              "max      3296.755859"
            ]
          },
          "execution_count": 101,
          "metadata": {},
          "output_type": "execute_result"
        }
      ],
      "source": [
        "submission.describe()"
      ]
    },
    {
      "cell_type": "code",
      "execution_count": 102,
      "metadata": {
        "_cell_guid": "b811ffeb-7955-403b-9e92-18967b973121",
        "_uuid": "6b3493f20d2161f268138e2f93ff0c200f89d1fd",
        "collapsed": true
      },
      "outputs": [],
      "source": [
        "submission.to_csv('submission.csv')"
      ]
    },
    {
      "cell_type": "code",
      "execution_count": 103,
      "metadata": {
        "collapsed": true,
        "_uuid": "fb39bc0fd4843b524e2652371c7d60aa4e47e3db"
      },
      "outputs": [],
      "source": [
        "def plot_feature_importances_taxi(model):\n",
        "    n_features = train.shape[1]\n",
        "    plt.figure(figsize=(8,10))\n",
        "    plt.barh(range(n_features), model.feature_importances_, \n",
        "             align='center')\n",
        "    plt.yticks(np.arange(n_features), train.columns)\n",
        "    plt.xlabel(\"Importance of feature\")\n",
        "    plt.ylabel(\"Feature\") "
      ]
    },
    {
      "cell_type": "code",
      "execution_count": 104,
      "metadata": {
        "_uuid": "bc844a9666c5fe58d3b09b65ff9cd27bfdec78ea"
      },
      "outputs": [
        {
          "data": {
            "text/plain": [
              "DecisionTreeClassifier(class_weight=None, criterion='gini', max_depth=12,\n",
              "            max_features=None, max_leaf_nodes=None,\n",
              "            min_impurity_decrease=0.0, min_impurity_split=None,\n",
              "            min_samples_leaf=1, min_samples_split=2,\n",
              "            min_weight_fraction_leaf=0.0, presort=False, random_state=None,\n",
              "            splitter='best')"
            ]
          },
          "execution_count": 104,
          "metadata": {},
          "output_type": "execute_result"
        }
      ],
      "source": [
        "tree = DecisionTreeClassifier(max_depth=12)\n",
        "tree.fit(X_train_scaled, y_train)"
      ]
    },
    {
      "cell_type": "code",
      "execution_count": 105,
      "metadata": {
        "_uuid": "e31a5b6c03a80e0607987374025932a76c27ed58"
      },
      "outputs": [
        {
          "data": {
            "image/png": "[encoded data removed]",
            "text/plain": [
              "<matplotlib.figure.Figure at 0x7f73e429cac8>"
            ]
          },
          "metadata": {},
          "output_type": "display_data"
        }
      ],
      "source": [
        "plot_feature_importances_taxi(tree)"
      ]
    }
  ],
  "metadata": {
    "kernelspec": {
      "display_name": "Python 3",
      "language": "python",
      "name": "python3"
    },
    "language_info": {
      "codemirror_mode": {
        "name": "ipython",
        "version": 3
      },
      "file_extension": ".py",
      "mimetype": "text/x-python",
      "name": "python",
      "nbconvert_exporter": "python",
      "pygments_lexer": "ipython3",
      "version": "3.6.1"
    }
  },
  "nbformat": 4,
  "nbformat_minor": 1
}